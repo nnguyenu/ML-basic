{
  "cells": [
    {
      "cell_type": "markdown",
      "metadata": {
        "colab_type": "text",
        "id": "view-in-github"
      },
      "source": [
        "<a href=\"https://colab.research.google.com/github/nnguyenu/ML-basic/blob/main/Convex_optimization.ipynb\" target=\"_parent\"><img src=\"https://colab.research.google.com/assets/colab-badge.svg\" alt=\"Open In Colab\"/></a>"
      ]
    },
    {
      "cell_type": "code",
      "execution_count": 1,
      "metadata": {
        "colab": {
          "base_uri": "https://localhost:8080/"
        },
        "id": "3UXauAav-_P8",
        "outputId": "f51c63bc-a1fb-47f3-e451-a8588f8eac4e"
      },
      "outputs": [
        {
          "name": "stdout",
          "output_type": "stream",
          "text": [
            "Solution\"\n",
            "[ 6.00e+00]\n",
            "[ 4.00e+00]\n",
            "\n"
          ]
        }
      ],
      "source": [
        "from cvxopt import matrix, solvers\n",
        "c = matrix([-5., -3.])\n",
        "G = matrix([[1., 2., 1., -1., 0.], [1., 1., 4., 0., -1.]])\n",
        "h = matrix([10., 16., 32., 0., 0.])\n",
        "\n",
        "solvers.options['show_progress'] = False\n",
        "sol = solvers.lp(c, G, h)\n",
        "\n",
        "print('Solution\"')\n",
        "print(sol['x'])"
      ]
    }
  ],
  "metadata": {
    "colab": {
      "authorship_tag": "ABX9TyN5LLYhslXlapXmhaxnQAuw",
      "include_colab_link": true,
      "provenance": []
    },
    "kernelspec": {
      "display_name": "Python 3.11.0 64-bit",
      "language": "python",
      "name": "python3"
    },
    "language_info": {
      "name": "python",
      "version": "3.11.0"
    },
    "vscode": {
      "interpreter": {
        "hash": "aee8b7b246df8f9039afb4144a1f6fd8d2ca17a180786b69acc140d282b71a49"
      }
    }
  },
  "nbformat": 4,
  "nbformat_minor": 0
}
