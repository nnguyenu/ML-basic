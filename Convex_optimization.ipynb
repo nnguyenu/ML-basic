{
  "cells": [
    {
      "cell_type": "markdown",
      "metadata": {
        "id": "view-in-github",
        "colab_type": "text"
      },
      "source": [
        "<a href=\"https://colab.research.google.com/github/nnguyenu/ML-basic/blob/main/Convex_optimization.ipynb\" target=\"_parent\"><img src=\"https://colab.research.google.com/assets/colab-badge.svg\" alt=\"Open In Colab\"/></a>"
      ]
    },
    {
      "cell_type": "code",
      "execution_count": 14,
      "metadata": {
        "colab": {
          "base_uri": "https://localhost:8080/"
        },
        "id": "3UXauAav-_P8",
        "outputId": "a7402de3-5f18-48aa-a0d7-0eaefea92580"
      },
      "outputs": [
        {
          "output_type": "stream",
          "name": "stdout",
          "text": [
            "Solution\"\n",
            "[ 6.00e+00]\n",
            "[ 4.00e+00]\n",
            "\n"
          ]
        }
      ],
      "source": [
        "from cvxopt import matrix, solvers\n",
        "c = matrix([-5., -3.])\n",
        "G = matrix([[1., 2., 1., -1., 0.], [1., 1., 4., 0., -1.]])\n",
        "h = matrix([10., 16., 32., 0., 0.])\n",
        "\n",
        "solvers.options['show_progress'] = False\n",
        "sol = solvers.lp(c, G, h)\n",
        "\n",
        "print('Solution\"')\n",
        "print(sol['x'])"
      ]
    },
    {
      "cell_type": "code",
      "source": [
        "from __future__ import print_function\n",
        "import numpy as np \n",
        "import matplotlib.pyplot as plt\n",
        "from scipy.spatial.distance import cdist\n",
        "np.random.seed(22)\n",
        "\n",
        "means = [[2, 2], [4, 2]]\n",
        "cov = [[.3, .2], [.2, .3]]\n",
        "N = 10\n",
        "X0 = np.random.multivariate_normal(means[0], cov, N) # class 1\n",
        "X1 = np.random.multivariate_normal(means[1], cov, N) # class -1 \n",
        "X = np.concatenate((X0.T, X1.T), axis = 1) # all data \n",
        "y = np.concatenate((np.ones((1, N)), -1*np.ones((1, N))), axis = 1) # labels \n",
        "\n",
        "plt.plot(X0[:,0],X0[:,1],'bo')\n",
        "plt.plot(X1[:,0],X1[:,1],'ro')"
      ],
      "metadata": {
        "colab": {
          "base_uri": "https://localhost:8080/",
          "height": 283
        },
        "id": "7jRwKFq3gAj2",
        "outputId": "a47deb13-60d0-4a10-8800-a960020fca14"
      },
      "execution_count": 15,
      "outputs": [
        {
          "output_type": "execute_result",
          "data": {
            "text/plain": [
              "[<matplotlib.lines.Line2D at 0x7f6e222ca040>]"
            ]
          },
          "metadata": {},
          "execution_count": 15
        },
        {
          "output_type": "display_data",
          "data": {
            "text/plain": [
              "<Figure size 432x288 with 1 Axes>"
            ],
            "image/png": "[encoded data removed]"
          },
          "metadata": {
            "needs_background": "light"
          }
        }
      ]
    },
    {
      "cell_type": "code",
      "source": [
        "from cvxopt import matrix, solvers\n",
        "# build K\n",
        "V = np.concatenate((X0.T, -X1.T), axis = 1)\n",
        "K = matrix(V.T.dot(V)) # see definition of V, K near eq (8)\n",
        "\n",
        "p = matrix(-np.ones((2*N, 1))) # all-one vector \n",
        "# build A, b, G, h \n",
        "G = matrix(-np.eye(2*N)) # for all lambda_n >= 0\n",
        "h = matrix(np.zeros((2*N, 1)))\n",
        "A = matrix(y) # the equality constrain is actually y^T lambda = 0\n",
        "b = matrix(np.zeros((1, 1))) \n",
        "solvers.options['show_progress'] = False\n",
        "sol = solvers.qp(K, p, G, h, A, b)\n",
        "\n",
        "l = np.array(sol['x'])\n",
        "print('lambda = ')\n",
        "print(l.T)"
      ],
      "metadata": {
        "colab": {
          "base_uri": "https://localhost:8080/"
        },
        "id": "-8grQ08TgZ-q",
        "outputId": "db9848be-c0e7-4bd7-852f-96f05c255ecc"
      },
      "execution_count": 16,
      "outputs": [
        {
          "output_type": "stream",
          "name": "stdout",
          "text": [
            "lambda = \n",
            "[[8.54018321e-01 2.89132533e-10 1.37095535e+00 6.36030818e-10\n",
            "  4.04317408e-10 8.82390106e-10 6.35001881e-10 5.49567576e-10\n",
            "  8.33359230e-10 1.20982928e-10 6.86678649e-10 1.25039745e-10\n",
            "  2.22497367e+00 4.05417905e-09 1.26763684e-10 1.99008949e-10\n",
            "  2.13742578e-10 1.51537487e-10 3.75329509e-10 3.56161975e-10]]\n"
          ]
        }
      ]
    },
    {
      "cell_type": "code",
      "source": [
        "epsilon = 1e-6 # just a small number, greater than 1e-9\n",
        "S = np.where(l > epsilon)[0]\n",
        "\n",
        "VS = V[:, S]\n",
        "XS = X[:, S]\n",
        "yS = y[:, S]\n",
        "lS = l[S]\n",
        "# calculate w and b\n",
        "w = VS.dot(lS)\n",
        "b = np.mean(yS.T - w.T.dot(XS))\n",
        "\n",
        "print('w = ', w.T)\n",
        "print('b = ', b)\n",
        "\n",
        "plt.plot(X0[:,0],X0[:,1],'bo')\n",
        "plt.plot(X1[:,0],X1[:,1],'ro')\n",
        "\n",
        "x_line = np.arange(1.2,4.5,0.1)\n",
        "y_line = (-b - w[0,0]*x_line) / w[1,0]\n",
        "y_line1 = (-(b+1) - w[0,0]*x_line) / w[1,0]\n",
        "y_line2 = (-(b-1) - w[0,0]*x_line) / w[1,0]\n",
        "plt.plot(x_line,y_line,linewidth=3)\n",
        "plt.plot(x_line,y_line1)\n",
        "plt.plot(x_line,y_line2)"
      ],
      "metadata": {
        "colab": {
          "base_uri": "https://localhost:8080/",
          "height": 319
        },
        "id": "grPJvlVegf8K",
        "outputId": "8fb2508e-8262-4b95-fcc6-c9b6b06ce70d"
      },
      "execution_count": 20,
      "outputs": [
        {
          "output_type": "stream",
          "name": "stdout",
          "text": [
            "w =  [[-2.00984381  0.64068336]]\n",
            "b =  4.668560633868097\n"
          ]
        },
        {
          "output_type": "execute_result",
          "data": {
            "text/plain": [
              "[<matplotlib.lines.Line2D at 0x7f6e1873fac0>]"
            ]
          },
          "metadata": {},
          "execution_count": 20
        },
        {
          "output_type": "display_data",
          "data": {
            "text/plain": [
              "<Figure size 432x288 with 1 Axes>"
            ],
            "image/png": "[encoded data removed]"
          },
          "metadata": {
            "needs_background": "light"
          }
        }
      ]
    },
    {
      "cell_type": "code",
      "source": [],
      "metadata": {
        "id": "BLYVqM3YgvXJ"
      },
      "execution_count": 17,
      "outputs": []
    }
  ],
  "metadata": {
    "colab": {
      "provenance": [],
      "authorship_tag": "ABX9TyN8WWrRt2Plpo8l3zgLTCaH",
      "include_colab_link": true
    },
    "kernelspec": {
      "display_name": "Python 3.11.0 64-bit",
      "language": "python",
      "name": "python3"
    },
    "language_info": {
      "name": "python",
      "version": "3.11.0"
    },
    "vscode": {
      "interpreter": {
        "hash": "aee8b7b246df8f9039afb4144a1f6fd8d2ca17a180786b69acc140d282b71a49"
      }
    }
  },
  "nbformat": 4,
  "nbformat_minor": 0
}