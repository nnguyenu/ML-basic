{
  "cells": [
    {
      "cell_type": "markdown",
      "metadata": {
        "id": "view-in-github",
        "colab_type": "text"
      },
      "source": [
        "<a href=\"https://colab.research.google.com/github/nnguyenu/ML-basic/blob/main/Convex_optimization.ipynb\" target=\"_parent\"><img src=\"https://colab.research.google.com/assets/colab-badge.svg\" alt=\"Open In Colab\"/></a>"
      ]
    },
    {
      "cell_type": "code",
      "execution_count": null,
      "metadata": {
        "colab": {
          "base_uri": "https://localhost:8080/"
        },
        "id": "3UXauAav-_P8",
        "outputId": "f51c63bc-a1fb-47f3-e451-a8588f8eac4e"
      },
      "outputs": [
        {
          "name": "stdout",
          "output_type": "stream",
          "text": [
            "Solution\"\n",
            "[ 6.00e+00]\n",
            "[ 4.00e+00]\n",
            "\n"
          ]
        }
      ],
      "source": [
        "from cvxopt import matrix, solvers\n",
        "c = matrix([-5., -3.])\n",
        "G = matrix([[1., 2., 1., -1., 0.], [1., 1., 4., 0., -1.]])\n",
        "h = matrix([10., 16., 32., 0., 0.])\n",
        "\n",
        "solvers.options['show_progress'] = False\n",
        "sol = solvers.lp(c, G, h)\n",
        "\n",
        "print('Solution\"')\n",
        "print(sol['x'])"
      ]
    },
    {
      "cell_type": "code",
      "source": [
        "from __future__ import print_function\n",
        "import numpy as np \n",
        "import matplotlib.pyplot as plt\n",
        "from scipy.spatial.distance import cdist\n",
        "np.random.seed(22)\n",
        "\n",
        "means = [[2, 2], [4, 2]]\n",
        "cov = [[.3, .2], [.2, .3]]\n",
        "N = 10\n",
        "X0 = np.random.multivariate_normal(means[0], cov, N) # class 1\n",
        "X1 = np.random.multivariate_normal(means[1], cov, N) # class -1 \n",
        "X = np.concatenate((X0.T, X1.T), axis = 1) # all data \n",
        "y = np.concatenate((np.ones((1, N)), -1*np.ones((1, N))), axis = 1) # labels \n",
        "\n",
        "plt.plot(X0[:,0],X0[:,1],'bo')\n",
        "plt.plot(X1[:,0],X1[:,1],'ro')"
      ],
      "metadata": {
        "id": "7jRwKFq3gAj2",
        "outputId": "148cf98b-b905-4e3c-fc3a-cf005debdb91",
        "colab": {
          "base_uri": "https://localhost:8080/",
          "height": 283
        }
      },
      "execution_count": 11,
      "outputs": [
        {
          "output_type": "execute_result",
          "data": {
            "text/plain": [
              "[<matplotlib.lines.Line2D at 0x7f289cbdae80>]"
            ]
          },
          "metadata": {},
          "execution_count": 11
        },
        {
          "output_type": "display_data",
          "data": {
            "text/plain": [
              "<Figure size 432x288 with 1 Axes>"
            ],
            "image/png": "[encoded data removed]"
          },
          "metadata": {
            "needs_background": "light"
          }
        }
      ]
    },
    {
      "cell_type": "code",
      "source": [
        "from cvxopt import matrix, solvers\n",
        "# build K\n",
        "V = np.concatenate((X0.T, -X1.T), axis = 1)\n",
        "K = matrix(V.T.dot(V)) # see definition of V, K near eq (8)\n",
        "\n",
        "p = matrix(-np.ones((2*N, 1))) # all-one vector \n",
        "# build A, b, G, h \n",
        "G = matrix(-np.eye(2*N)) # for all lambda_n >= 0\n",
        "h = matrix(np.zeros((2*N, 1)))\n",
        "A = matrix(y) # the equality constrain is actually y^T lambda = 0\n",
        "b = matrix(np.zeros((1, 1))) \n",
        "solvers.options['show_progress'] = False\n",
        "sol = solvers.qp(K, p, G, h, A, b)\n",
        "\n",
        "l = np.array(sol['x'])\n",
        "print('lambda = ')\n",
        "print(l.T)"
      ],
      "metadata": {
        "id": "-8grQ08TgZ-q",
        "outputId": "9f6655e1-630c-4996-c8bc-d4537c0eb1be",
        "colab": {
          "base_uri": "https://localhost:8080/"
        }
      },
      "execution_count": 12,
      "outputs": [
        {
          "output_type": "stream",
          "name": "stdout",
          "text": [
            "lambda = \n",
            "[[8.54018321e-01 2.89132533e-10 1.37095535e+00 6.36030818e-10\n",
            "  4.04317408e-10 8.82390106e-10 6.35001881e-10 5.49567576e-10\n",
            "  8.33359230e-10 1.20982928e-10 6.86678649e-10 1.25039745e-10\n",
            "  2.22497367e+00 4.05417905e-09 1.26763684e-10 1.99008949e-10\n",
            "  2.13742578e-10 1.51537487e-10 3.75329509e-10 3.56161975e-10]]\n"
          ]
        }
      ]
    },
    {
      "cell_type": "code",
      "source": [
        "epsilon = 1e-6 # just a small number, greater than 1e-9\n",
        "S = np.where(l > epsilon)[0]\n",
        "\n",
        "VS = V[:, S]\n",
        "XS = X[:, S]\n",
        "yS = y[:, S]\n",
        "lS = l[S]\n",
        "# calculate w and b\n",
        "w = VS.dot(lS)\n",
        "b = np.mean(yS.T - w.T.dot(XS))\n",
        "\n",
        "print('w = ', w.T)\n",
        "print('b = ', b)\n",
        "\n",
        "plt.plot(X0[:,0],X0[:,1],'bo')\n",
        "plt.plot(X1[:,0],X1[:,1],'ro')\n",
        "\n",
        "x = np.arange(0,6,0.1)\n",
        "y = (-b - w[0,0]*x) / w[1,0]\n",
        "plt.plot(x,y)"
      ],
      "metadata": {
        "id": "grPJvlVegf8K",
        "outputId": "86f010e9-6564-4c29-88f4-e11ea50bfebf",
        "colab": {
          "base_uri": "https://localhost:8080/",
          "height": 338
        }
      },
      "execution_count": 19,
      "outputs": [
        {
          "output_type": "stream",
          "name": "stdout",
          "text": [
            "w =  [[-2.00984381  0.64068336]]\n",
            "b =  4.668560633868097\n",
            "(2, 1)\n"
          ]
        },
        {
          "output_type": "execute_result",
          "data": {
            "text/plain": [
              "[<matplotlib.lines.Line2D at 0x7f28932693d0>]"
            ]
          },
          "metadata": {},
          "execution_count": 19
        },
        {
          "output_type": "display_data",
          "data": {
            "text/plain": [
              "<Figure size 432x288 with 1 Axes>"
            ],
            "image/png": "[encoded data removed]"
          },
          "metadata": {
            "needs_background": "light"
          }
        }
      ]
    },
    {
      "cell_type": "code",
      "source": [],
      "metadata": {
        "id": "BLYVqM3YgvXJ"
      },
      "execution_count": null,
      "outputs": []
    }
  ],
  "metadata": {
    "colab": {
      "provenance": [],
      "authorship_tag": "ABX9TyNnXnzERa0m1dWAAXXhL2x3",
      "include_colab_link": true
    },
    "kernelspec": {
      "display_name": "Python 3.11.0 64-bit",
      "language": "python",
      "name": "python3"
    },
    "language_info": {
      "name": "python",
      "version": "3.11.0"
    },
    "vscode": {
      "interpreter": {
        "hash": "aee8b7b246df8f9039afb4144a1f6fd8d2ca17a180786b69acc140d282b71a49"
      }
    }
  },
  "nbformat": 4,
  "nbformat_minor": 0
}