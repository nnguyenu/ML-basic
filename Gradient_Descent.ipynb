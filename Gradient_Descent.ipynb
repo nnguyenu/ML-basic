{
  "cells": [
    {
      "cell_type": "markdown",
      "metadata": {
        "colab_type": "text",
        "id": "view-in-github"
      },
      "source": [
        "<a href=\"https://colab.research.google.com/github/nnguyenu/ML-basic/blob/main/Gradient_Descent.ipynb\" target=\"_parent\"><img src=\"https://colab.research.google.com/assets/colab-badge.svg\" alt=\"Open In Colab\"/></a>"
      ]
    },
    {
      "cell_type": "code",
      "execution_count": null,
      "metadata": {
        "id": "Z3YqfOGbevaA"
      },
      "outputs": [],
      "source": [
        "# To support both python 2 and python 3\n",
        "from __future__ import division, print_function, unicode_literals\n",
        "import math\n",
        "import numpy as np \n",
        "import matplotlib.pyplot as plt"
      ]
    },
    {
      "cell_type": "code",
      "execution_count": null,
      "metadata": {
        "id": "tHbc6Ehyf6V6"
      },
      "outputs": [],
      "source": [
        "def grad1(x):\n",
        "    return 2*x+ 5*np.cos(x)\n",
        "\n",
        "def cost1(x):\n",
        "    return x**2 + 5*np.sin(x)\n",
        "\n",
        "def myGD1(eta, x0):\n",
        "    x = [x0]\n",
        "    for iterations in range(100):\n",
        "        x_new = x[-1] - eta*grad1(x[-1])\n",
        "        if abs(grad1(x_new)) < 1e-5:\n",
        "            break\n",
        "        x.append(x_new)\n",
        "    return (x, iterations)"
      ]
    },
    {
      "cell_type": "code",
      "execution_count": null,
      "metadata": {
        "colab": {
          "base_uri": "https://localhost:8080/"
        },
        "id": "GzRD96PBf-Dl",
        "outputId": "a26e81ab-4277-45bb-dbe4-429414824934"
      },
      "outputs": [
        {
          "name": "stdout",
          "output_type": "stream",
          "text": [
            "Solution x1 = -1.110513, cost = -3.246394, obtained after 15 iterations\n",
            "Solution x2 = -1.110508, cost = -3.246394, obtained after 33 iterations\n"
          ]
        }
      ],
      "source": [
        "(x1, it1) = myGD1(.1, -5)\n",
        "(x2, it2) = myGD1(.1, 5)\n",
        "print('Solution x1 = %f, cost = %f, obtained after %d iterations'%(x1[-1], cost1(x1[-1]), it1))\n",
        "print('Solution x2 = %f, cost = %f, obtained after %d iterations'%(x2[-1], cost1(x2[-1]), it2))"
      ]
    },
    {
      "cell_type": "code",
      "execution_count": null,
      "metadata": {
        "colab": {
          "base_uri": "https://localhost:8080/",
          "height": 305
        },
        "id": "uLUFhXcpgK0V",
        "outputId": "77806eb1-c160-45ed-928b-9c21fc7e8e1b"
      },
      "outputs": [
        {
          "name": "stdout",
          "output_type": "stream",
          "text": [
            "Solution found by formula: w =  [[4.00896438 2.97782405]]\n",
            "[0. 1.] [4.00896438 6.98678843]\n"
          ]
        },
        {
          "data": {
            "image/png": "[encoded data removed]",
            "text/plain": [
              "<Figure size 432x288 with 1 Axes>"
            ]
          },
          "metadata": {
            "needs_background": "light"
          },
          "output_type": "display_data"
        }
      ],
      "source": [
        "np.random.seed(2)\n",
        "# Create an array of the given shape and populate it with random samples from a uniform distribution over [0, 1).\n",
        "X = np.random.rand(1000, 1) # X.shape = (1000,1)\n",
        "# Return sample from the “standard normal” distribution (mean=0,standard deviation=1)\n",
        "noise = np.random.randn(1000, 1)\n",
        "y = 4 + 3 * X + .25*noise # noise added\n",
        "\n",
        "# Building Xbar \n",
        "one = np.ones((X.shape[0],1))\n",
        "Xbar = np.concatenate((one, X), axis = 1)\n",
        "\n",
        "A = np.dot(Xbar.T, Xbar)\n",
        "b = np.dot(Xbar.T, y)\n",
        "w_lr = np.dot(np.linalg.pinv(A), b)\n",
        "print('Solution found by formula: w = ',w_lr.T)\n",
        "\n",
        "# Display result\n",
        "w = w_lr\n",
        "w_0 = w[0][0]\n",
        "w_1 = w[1][0]\n",
        "# Return evenly spaced numbers over a specified interval (2 points 0 & 1)\n",
        "x0 = np.linspace(0, 1, 2, endpoint=True)\n",
        "y0 = w_0 + w_1*x0\n",
        "print(x0,y0)\n",
        "# Draw the fitting line \n",
        "plt.plot(X.T, y.T, 'b.')     # data \n",
        "plt.plot(x0, y0, 'y', linewidth = 2)   # the fitting line\n",
        "plt.axis([0, 1, 0, 10])\n",
        "plt.show()"
      ]
    },
    {
      "cell_type": "code",
      "execution_count": null,
      "metadata": {
        "id": "Brn7kx9kw1Ho"
      },
      "outputs": [],
      "source": [
        "def grad(w):\n",
        "    N = Xbar.shape[0]\n",
        "    return 1/N * Xbar.T.dot(Xbar.dot(w) - y)\n",
        "\n",
        "# calculate loss function\n",
        "def cost(w):\n",
        "    N = Xbar.shape[0]\n",
        "    return 1/(2*N)*np.linalg.norm(y - Xbar.dot(w), 2)**2"
      ]
    },
    {
      "cell_type": "code",
      "execution_count": null,
      "metadata": {
        "colab": {
          "base_uri": "https://localhost:8080/"
        },
        "id": "x9OHVZLbw_yo",
        "outputId": "ea67ea03-1a2c-4905-de8e-738d73328586"
      },
      "outputs": [
        {
          "name": "stdout",
          "output_type": "stream",
          "text": [
            "0.02954013831290531\n",
            "Checking gradient... True\n"
          ]
        }
      ],
      "source": [
        "def numerical_grad(w, cost):\n",
        "    eps = 1e-4\n",
        "    g = np.zeros(w.shape) # create zero array with same shape as w\n",
        "    # calculate gradient for each w[i]\n",
        "    w_p = w.copy()\n",
        "    w_n = w.copy()\n",
        "    for i in range(len(w)):\n",
        "        w_p[i] += eps \n",
        "        w_n[i] -= eps\n",
        "        g[i] = (cost(w_p) - cost(w_n))/(2*eps)\n",
        "        w_p[i] -= eps\n",
        "        w_n[i] += eps\n",
        "    return g \n",
        "\n",
        "# check if numerical_grad is the same as normal gradient\n",
        "def check_grad(shape, cost, grad):\n",
        "    w = np.random.rand(shape[0], shape[1])\n",
        "    grad1 = grad(w)\n",
        "    grad2 = numerical_grad(w, cost)\n",
        "    if np.linalg.norm(grad1 - grad2) < 1e-6:\n",
        "      return True\n",
        "    return False\n",
        "print( 'Checking gradient...', check_grad([2,1], cost, grad))"
      ]
    },
    {
      "cell_type": "code",
      "execution_count": null,
      "metadata": {
        "colab": {
          "base_uri": "https://localhost:8080/"
        },
        "id": "oByZtKIDxAW0",
        "outputId": "915695f9-1935-4923-d515-81dfab5910d6"
      },
      "outputs": [
        {
          "name": "stdout",
          "output_type": "stream",
          "text": [
            "Solution found by GD: w =  [[4.00911521 2.97753448]] ,\n",
            "after 119 iterations.\n"
          ]
        }
      ],
      "source": [
        "def myGD(w_init, grad, eta):\n",
        "    w = [w_init]\n",
        "    for it in range(1000):\n",
        "        #can use numerical_grad\n",
        "        w_new = w[-1] - eta*grad(w[-1])\n",
        "        if np.linalg.norm(grad(w_new))/len(w_new) < 1e-5:   \n",
        "            break \n",
        "        w.append(w_new)\n",
        "    return (w, it) \n",
        "\n",
        "w_init = np.array([[2], [1]])\n",
        "(w1, it1) = myGD(w_init, grad, 1)\n",
        "print('Solution found by GD: w = ', w1[-1].T, ',\\nafter %d iterations.' %(it1+1))"
      ]
    },
    {
      "cell_type": "code",
      "execution_count": null,
      "metadata": {
        "id": "FJrUXhnBxDms"
      },
      "outputs": [],
      "source": [
        "# check convergence\n",
        "def has_converged(theta_new, grad):\n",
        "    return np.linalg.norm(grad(theta_new))/len(theta_new) < 1e-3\n",
        "\n",
        "def GD_momentum(theta_init, grad, eta, gamma):\n",
        "    # Suppose we want to store history of theta\n",
        "    theta = [theta_init]\n",
        "    v_old = np.zeros_like(theta_init)\n",
        "    for it in range(100):\n",
        "        v_new = gamma*v_old + eta*grad(theta[-1])\n",
        "        theta_new = theta[-1] - v_new\n",
        "        if has_converged(theta_new, grad):\n",
        "            break \n",
        "        theta.append(theta_new)\n",
        "        v_old = v_new\n",
        "    return theta \n",
        "    # this variable includes all points in the path\n",
        "    # if you just want the final answer, \n",
        "    # use `return theta[-1]`"
      ]
    },
    {
      "cell_type": "code",
      "execution_count": null,
      "metadata": {
        "id": "cUFNhOdVM4AH"
      },
      "outputs": [],
      "source": [
        "# single point gradient\n",
        "def sgrad(w, i, rd_id):\n",
        "    true_i = rd_id[i]\n",
        "    xi = Xbar[true_i, :]\n",
        "    yi = y[true_i]\n",
        "    a = np.dot(xi, w) - yi\n",
        "    return (xi*a).reshape(2, 1)\n",
        "\n",
        "def SGD(w_init, grad, eta):\n",
        "    w = [w_init]\n",
        "    w_last_check = w_init\n",
        "    iter_check_w = 10\n",
        "    N = X.shape[0]\n",
        "    count = 0\n",
        "    for it in range(10):\n",
        "        # shuffle data \n",
        "        rd_id = np.random.permutation(N)\n",
        "        for i in range(N):\n",
        "            count += 1 \n",
        "            g = sgrad(w[-1], i, rd_id)\n",
        "            w_new = w[-1] - eta*g\n",
        "            w.append(w_new)\n",
        "            if count % iter_check_w == 0:\n",
        "                w_this_check = w_new                 \n",
        "                if np.linalg.norm(w_this_check - w_last_check)/len(w_init) < 1e-3:                                    \n",
        "                    return w\n",
        "                w_last_check = w_this_check\n"
      ]
    }
  ],
  "metadata": {
    "colab": {
      "authorship_tag": "ABX9TyPsjV07ZPmFffEGR2ICpZfA",
      "include_colab_link": true,
      "provenance": []
    },
    "kernelspec": {
      "display_name": "Python 3.11.0 64-bit",
      "language": "python",
      "name": "python3"
    },
    "language_info": {
      "name": "python",
      "version": "3.11.0"
    },
    "vscode": {
      "interpreter": {
        "hash": "aee8b7b246df8f9039afb4144a1f6fd8d2ca17a180786b69acc140d282b71a49"
      }
    }
  },
  "nbformat": 4,
  "nbformat_minor": 0
}
