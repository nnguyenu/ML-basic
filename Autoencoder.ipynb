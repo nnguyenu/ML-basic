{
  "cells": [
    {
      "cell_type": "markdown",
      "metadata": {
        "id": "view-in-github",
        "colab_type": "text"
      },
      "source": [
        "<a href=\"https://colab.research.google.com/github/nnguyenu/ML-basic/blob/main/Autoencoder.ipynb\" target=\"_parent\"><img src=\"https://colab.research.google.com/assets/colab-badge.svg\" alt=\"Open In Colab\"/></a>"
      ]
    },
    {
      "cell_type": "markdown",
      "metadata": {
        "id": "QZpXD4NZsmOr"
      },
      "source": [
        "Before you turn this problem in, make sure everything runs as expected. First, **restart the kernel** (in the menubar, select Kernel$\\rightarrow$Restart) and then **run all cells** (in the menubar, select Cell$\\rightarrow$Run All).\n",
        "\n",
        "Make sure you fill in any place that says `YOUR CODE HERE` or \"YOUR ANSWER HERE\", as well as your name and collaborators below:"
      ]
    },
    {
      "cell_type": "code",
      "execution_count": null,
      "metadata": {
        "id": "m88Ynk0ZsmOu"
      },
      "outputs": [],
      "source": [
        "NAME = \"\"\n",
        "COLLABORATORS = \"\""
      ]
    },
    {
      "cell_type": "markdown",
      "metadata": {
        "id": "nd-o2FmbsmOv"
      },
      "source": [
        "---"
      ]
    },
    {
      "cell_type": "markdown",
      "metadata": {
        "deletable": false,
        "editable": false,
        "id": "yw6trru89_zZ",
        "nbgrader": {
          "cell_type": "markdown",
          "checksum": "dd0e079ca69e33e6c8640eb679e8bd04",
          "grade": false,
          "grade_id": "cell-a474f0130611ac2d",
          "locked": true,
          "schema_version": 3,
          "solution": false,
          "task": false
        }
      },
      "source": [
        "# CSE204 - Introduction to Machine Learning - Lab Session 10: Dimensionality Reduction with PCA and Autoencoders\n",
        "\n",
        "<img src=\"https://raw.githubusercontent.com/adimajo/polytechnique-cse204-2019-releases/master/logo.jpg\" style=\"float: left; width: 15%\" />\n",
        "\n",
        "[CSE204-2019](https://moodle.polytechnique.fr/course/view.php?id=7862) Lab session #10\n",
        "\n",
        "J.B. Scoggins - Adrien Ehrhardt"
      ]
    },
    {
      "cell_type": "markdown",
      "metadata": {
        "deletable": false,
        "editable": false,
        "nbgrader": {
          "cell_type": "markdown",
          "checksum": "e7e6c3dd4ea56ffe7522bf812040e210",
          "grade": false,
          "grade_id": "cell-d4f02d0ff0eb19fd",
          "locked": true,
          "schema_version": 3,
          "solution": false,
          "task": false
        },
        "id": "GZkPQYWMsmOw"
      },
      "source": [
        "[![Open in Google Colab](https://colab.research.google.com/assets/colab-badge.svg)](https://colab.research.google.com/github/adimajo/polytechnique-cse204-2019-releases/blob/master/lab_session_10/lab_session_10.ipynb)\n",
        "\n",
        "[![My Binder](https://mybinder.org/badge_logo.svg)](https://mybinder.org/v2/gh/adimajo/polytechnique-cse204-2019-releases/master?filepath=lab_session_10%2Flab_session_10.ipynb)\n",
        "\n",
        "[![Local](https://img.shields.io/badge/Local-Save%20As...-blue)](https://github.com/adimajo/polytechnique-cse204-2019-releases/raw/master/lab_session_10/lab_session_10.ipynb)"
      ]
    },
    {
      "cell_type": "markdown",
      "metadata": {
        "deletable": false,
        "editable": false,
        "nbgrader": {
          "cell_type": "markdown",
          "checksum": "8cea55112ec8056c067cb398c41505f2",
          "grade": false,
          "grade_id": "cell-3518fb9008a3444d",
          "locked": true,
          "schema_version": 3,
          "solution": false,
          "task": false
        },
        "id": "SlsrGGpFsmOw"
      },
      "source": [
        "## Introduction\n",
        "\n",
        "In this lab, you will get hands-on experience with dimension reduction using two separate techniques: Priciple Component Analysis and Undercomplete Autoencoders.  The goal of dimension reduction is to find a suitable transformation which converts a large dimensional space into a smaller feature space, such that the important information is not lost."
      ]
    },
    {
      "cell_type": "code",
      "execution_count": null,
      "metadata": {
        "deletable": false,
        "editable": false,
        "nbgrader": {
          "cell_type": "code",
          "checksum": "3c2777b50b34a22c02a7f6ac633cca15",
          "grade": false,
          "grade_id": "cell-9f97d55f07ae360b",
          "locked": true,
          "schema_version": 3,
          "solution": false,
          "task": false
        },
        "id": "c03bOAw4smOw",
        "colab": {
          "base_uri": "https://localhost:8080/"
        },
        "outputId": "2a537b03-e0ee-44bc-d9c4-971996d9207d"
      },
      "outputs": [
        {
          "output_type": "stream",
          "name": "stdout",
          "text": [
            "Looking in indexes: https://pypi.org/simple, https://us-python.pkg.dev/colab-wheels/public/simple/\n",
            "Requirement already satisfied: matplotlib>=3.1.2 in /usr/local/lib/python3.8/dist-packages (3.2.2)\n",
            "Requirement already satisfied: cycler>=0.10 in /usr/local/lib/python3.8/dist-packages (from matplotlib>=3.1.2) (0.11.0)\n",
            "Requirement already satisfied: pyparsing!=2.0.4,!=2.1.2,!=2.1.6,>=2.0.1 in /usr/local/lib/python3.8/dist-packages (from matplotlib>=3.1.2) (3.0.9)\n",
            "Requirement already satisfied: python-dateutil>=2.1 in /usr/local/lib/python3.8/dist-packages (from matplotlib>=3.1.2) (2.8.2)\n",
            "Requirement already satisfied: kiwisolver>=1.0.1 in /usr/local/lib/python3.8/dist-packages (from matplotlib>=3.1.2) (1.4.4)\n",
            "Requirement already satisfied: numpy>=1.11 in /usr/local/lib/python3.8/dist-packages (from matplotlib>=3.1.2) (1.21.6)\n",
            "Requirement already satisfied: six>=1.5 in /usr/local/lib/python3.8/dist-packages (from python-dateutil>=2.1->matplotlib>=3.1.2) (1.15.0)\n",
            "Looking in indexes: https://pypi.org/simple, https://us-python.pkg.dev/colab-wheels/public/simple/\n",
            "Requirement already satisfied: pandas>=0.25.3 in /usr/local/lib/python3.8/dist-packages (1.3.5)\n",
            "Requirement already satisfied: python-dateutil>=2.7.3 in /usr/local/lib/python3.8/dist-packages (from pandas>=0.25.3) (2.8.2)\n",
            "Requirement already satisfied: pytz>=2017.3 in /usr/local/lib/python3.8/dist-packages (from pandas>=0.25.3) (2022.7.1)\n",
            "Requirement already satisfied: numpy>=1.17.3 in /usr/local/lib/python3.8/dist-packages (from pandas>=0.25.3) (1.21.6)\n",
            "Requirement already satisfied: six>=1.5 in /usr/local/lib/python3.8/dist-packages (from python-dateutil>=2.7.3->pandas>=0.25.3) (1.15.0)\n",
            "Looking in indexes: https://pypi.org/simple, https://us-python.pkg.dev/colab-wheels/public/simple/\n",
            "Requirement already satisfied: numpy>=1.18.1 in /usr/local/lib/python3.8/dist-packages (1.21.6)\n",
            "Looking in indexes: https://pypi.org/simple, https://us-python.pkg.dev/colab-wheels/public/simple/\n",
            "Requirement already satisfied: scikit-learn>=0.22.1 in /usr/local/lib/python3.8/dist-packages (1.0.2)\n",
            "Requirement already satisfied: numpy>=1.14.6 in /usr/local/lib/python3.8/dist-packages (from scikit-learn>=0.22.1) (1.21.6)\n",
            "Requirement already satisfied: scipy>=1.1.0 in /usr/local/lib/python3.8/dist-packages (from scikit-learn>=0.22.1) (1.7.3)\n",
            "Requirement already satisfied: joblib>=0.11 in /usr/local/lib/python3.8/dist-packages (from scikit-learn>=0.22.1) (1.2.0)\n",
            "Requirement already satisfied: threadpoolctl>=2.0.0 in /usr/local/lib/python3.8/dist-packages (from scikit-learn>=0.22.1) (3.1.0)\n",
            "Looking in indexes: https://pypi.org/simple, https://us-python.pkg.dev/colab-wheels/public/simple/\n",
            "Collecting nose>=1.3.7\n",
            "Downloading nose-1.3.7-py3-none-any.whl (154 kB)\n",
            "━━━━━━━━━━━━━━━━━━━━━━━━━━━━━━━━━━━━━━━ 154.7/154.7 KB 3.6 MB/s eta 0:00:00\n",
            "Installing collected packages: nose\n",
            "Successfully installed nose-1.3.7\n",
            "Looking in indexes: https://pypi.org/simple, https://us-python.pkg.dev/colab-wheels/public/simple/\n",
            "Requirement already satisfied: tensorflow>=2.1.0 in /usr/local/lib/python3.8/dist-packages (2.11.0)\n",
            "Requirement already satisfied: tensorflow-io-gcs-filesystem>=0.23.1 in /usr/local/lib/python3.8/dist-packages (from tensorflow>=2.1.0) (0.30.0)\n",
            "Requirement already satisfied: keras<2.12,>=2.11.0 in /usr/local/lib/python3.8/dist-packages (from tensorflow>=2.1.0) (2.11.0)\n",
            "Requirement already satisfied: termcolor>=1.1.0 in /usr/local/lib/python3.8/dist-packages (from tensorflow>=2.1.0) (2.2.0)\n",
            "Requirement already satisfied: h5py>=2.9.0 in /usr/local/lib/python3.8/dist-packages (from tensorflow>=2.1.0) (3.1.0)\n",
            "Requirement already satisfied: wrapt>=1.11.0 in /usr/local/lib/python3.8/dist-packages (from tensorflow>=2.1.0) (1.14.1)\n",
            "Requirement already satisfied: flatbuffers>=2.0 in /usr/local/lib/python3.8/dist-packages (from tensorflow>=2.1.0) (23.1.21)\n",
            "Requirement already satisfied: gast<=0.4.0,>=0.2.1 in /usr/local/lib/python3.8/dist-packages (from tensorflow>=2.1.0) (0.4.0)\n",
            "Requirement already satisfied: tensorboard<2.12,>=2.11 in /usr/local/lib/python3.8/dist-packages (from tensorflow>=2.1.0) (2.11.2)\n",
            "Requirement already satisfied: google-pasta>=0.1.1 in /usr/local/lib/python3.8/dist-packages (from tensorflow>=2.1.0) (0.2.0)\n",
            "Requirement already satisfied: six>=1.12.0 in /usr/local/lib/python3.8/dist-packages (from tensorflow>=2.1.0) (1.15.0)\n",
            "Requirement already satisfied: libclang>=13.0.0 in /usr/local/lib/python3.8/dist-packages (from tensorflow>=2.1.0) (15.0.6.1)\n",
            "Requirement already satisfied: opt-einsum>=2.3.2 in /usr/local/lib/python3.8/dist-packages (from tensorflow>=2.1.0) (3.3.0)\n",
            "Requirement already satisfied: protobuf<3.20,>=3.9.2 in /usr/local/lib/python3.8/dist-packages (from tensorflow>=2.1.0) (3.19.6)\n",
            "Requirement already satisfied: absl-py>=1.0.0 in /usr/local/lib/python3.8/dist-packages (from tensorflow>=2.1.0) (1.4.0)\n",
            "Requirement already satisfied: packaging in /usr/local/lib/python3.8/dist-packages (from tensorflow>=2.1.0) (23.0)\n",
            "Requirement already satisfied: astunparse>=1.6.0 in /usr/local/lib/python3.8/dist-packages (from tensorflow>=2.1.0) (1.6.3)\n",
            "Requirement already satisfied: numpy>=1.20 in /usr/local/lib/python3.8/dist-packages (from tensorflow>=2.1.0) (1.21.6)\n",
            "Requirement already satisfied: tensorflow-estimator<2.12,>=2.11.0 in /usr/local/lib/python3.8/dist-packages (from tensorflow>=2.1.0) (2.11.0)\n",
            "Requirement already satisfied: typing-extensions>=3.6.6 in /usr/local/lib/python3.8/dist-packages (from tensorflow>=2.1.0) (4.4.0)\n",
            "Requirement already satisfied: grpcio<2.0,>=1.24.3 in /usr/local/lib/python3.8/dist-packages (from tensorflow>=2.1.0) (1.51.1)\n",
            "Requirement already satisfied: setuptools in /usr/local/lib/python3.8/dist-packages (from tensorflow>=2.1.0) (57.4.0)\n",
            "Requirement already satisfied: wheel<1.0,>=0.23.0 in /usr/local/lib/python3.8/dist-packages (from astunparse>=1.6.0->tensorflow>=2.1.0) (0.38.4)\n",
            "Requirement already satisfied: google-auth<3,>=1.6.3 in /usr/local/lib/python3.8/dist-packages (from tensorboard<2.12,>=2.11->tensorflow>=2.1.0) (2.16.0)\n",
            "Requirement already satisfied: werkzeug>=1.0.1 in /usr/local/lib/python3.8/dist-packages (from tensorboard<2.12,>=2.11->tensorflow>=2.1.0) (1.0.1)\n",
            "Requirement already satisfied: requests<3,>=2.21.0 in /usr/local/lib/python3.8/dist-packages (from tensorboard<2.12,>=2.11->tensorflow>=2.1.0) (2.25.1)\n",
            "Requirement already satisfied: google-auth-oauthlib<0.5,>=0.4.1 in /usr/local/lib/python3.8/dist-packages (from tensorboard<2.12,>=2.11->tensorflow>=2.1.0) (0.4.6)\n",
            "Requirement already satisfied: tensorboard-plugin-wit>=1.6.0 in /usr/local/lib/python3.8/dist-packages (from tensorboard<2.12,>=2.11->tensorflow>=2.1.0) (1.8.1)\n",
            "Requirement already satisfied: markdown>=2.6.8 in /usr/local/lib/python3.8/dist-packages (from tensorboard<2.12,>=2.11->tensorflow>=2.1.0) (3.4.1)\n",
            "Requirement already satisfied: tensorboard-data-server<0.7.0,>=0.6.0 in /usr/local/lib/python3.8/dist-packages (from tensorboard<2.12,>=2.11->tensorflow>=2.1.0) (0.6.1)\n",
            "Requirement already satisfied: pyasn1-modules>=0.2.1 in /usr/local/lib/python3.8/dist-packages (from google-auth<3,>=1.6.3->tensorboard<2.12,>=2.11->tensorflow>=2.1.0) (0.2.8)\n",
            "Requirement already satisfied: cachetools<6.0,>=2.0.0 in /usr/local/lib/python3.8/dist-packages (from google-auth<3,>=1.6.3->tensorboard<2.12,>=2.11->tensorflow>=2.1.0) (5.3.0)\n",
            "Requirement already satisfied: rsa<5,>=3.1.4 in /usr/local/lib/python3.8/dist-packages (from google-auth<3,>=1.6.3->tensorboard<2.12,>=2.11->tensorflow>=2.1.0) (4.9)\n",
            "Requirement already satisfied: requests-oauthlib>=0.7.0 in /usr/local/lib/python3.8/dist-packages (from google-auth-oauthlib<0.5,>=0.4.1->tensorboard<2.12,>=2.11->tensorflow>=2.1.0) (1.3.1)\n",
            "Requirement already satisfied: importlib-metadata>=4.4 in /usr/local/lib/python3.8/dist-packages (from markdown>=2.6.8->tensorboard<2.12,>=2.11->tensorflow>=2.1.0) (6.0.0)\n",
            "Requirement already satisfied: certifi>=2017.4.17 in /usr/local/lib/python3.8/dist-packages (from requests<3,>=2.21.0->tensorboard<2.12,>=2.11->tensorflow>=2.1.0) (2022.12.7)\n",
            "Requirement already satisfied: urllib3<1.27,>=1.21.1 in /usr/local/lib/python3.8/dist-packages (from requests<3,>=2.21.0->tensorboard<2.12,>=2.11->tensorflow>=2.1.0) (1.24.3)\n",
            "Requirement already satisfied: chardet<5,>=3.0.2 in /usr/local/lib/python3.8/dist-packages (from requests<3,>=2.21.0->tensorboard<2.12,>=2.11->tensorflow>=2.1.0) (4.0.0)\n",
            "Requirement already satisfied: idna<3,>=2.5 in /usr/local/lib/python3.8/dist-packages (from requests<3,>=2.21.0->tensorboard<2.12,>=2.11->tensorflow>=2.1.0) (2.10)\n",
            "Requirement already satisfied: zipp>=0.5 in /usr/local/lib/python3.8/dist-packages (from importlib-metadata>=4.4->markdown>=2.6.8->tensorboard<2.12,>=2.11->tensorflow>=2.1.0) (3.12.1)\n",
            "Requirement already satisfied: pyasn1<0.5.0,>=0.4.6 in /usr/local/lib/python3.8/dist-packages (from pyasn1-modules>=0.2.1->google-auth<3,>=1.6.3->tensorboard<2.12,>=2.11->tensorflow>=2.1.0) (0.4.8)\n",
            "Requirement already satisfied: oauthlib>=3.0.0 in /usr/local/lib/python3.8/dist-packages (from requests-oauthlib>=0.7.0->google-auth-oauthlib<0.5,>=0.4.1->tensorboard<2.12,>=2.11->tensorflow>=2.1.0) (3.2.2)\n"
          ]
        }
      ],
      "source": [
        "colab_requirements = [\n",
        "    \"matplotlib>=3.1.2\",\n",
        "    \"pandas>=0.25.3\",\n",
        "    \"numpy>=1.18.1\",\n",
        "    \"scikit-learn>=0.22.1\",\n",
        "    \"nose>=1.3.7\",\n",
        "    \"tensorflow>=2.1.0\"\n",
        "]\n",
        "import sys, subprocess\n",
        "def run_subprocess_command(cmd):\n",
        "    # run the command\n",
        "    process = subprocess.Popen(cmd.split(), stdout=subprocess.PIPE)\n",
        "    # print the output\n",
        "    for line in process.stdout:\n",
        "        print(line.decode().strip())\n",
        "        \n",
        "if \"google.colab\" in sys.modules:\n",
        "    for i in colab_requirements:\n",
        "        run_subprocess_command(\"pip install \" + i)"
      ]
    },
    {
      "cell_type": "code",
      "execution_count": null,
      "metadata": {
        "deletable": false,
        "editable": false,
        "id": "ziXG8VAl9_zd",
        "nbgrader": {
          "cell_type": "code",
          "checksum": "708f90189600f6fdd1039216a7ac4a0b",
          "grade": false,
          "grade_id": "cell-620e8cbad8f79c88",
          "locked": true,
          "schema_version": 3,
          "solution": false,
          "task": false
        }
      },
      "outputs": [],
      "source": [
        "import tensorflow.keras.datasets.mnist as mnist\n",
        "import matplotlib.pyplot as plt\n",
        "import tensorflow as tf\n",
        "from tensorflow.keras.layers import Dense, Input\n",
        "from tensorflow.keras import Model\n",
        "import numpy as np"
      ]
    },
    {
      "cell_type": "markdown",
      "metadata": {
        "deletable": false,
        "editable": false,
        "id": "oTVnpKTn9_zf",
        "nbgrader": {
          "cell_type": "markdown",
          "checksum": "9cc947de576664b3e4a486b9fbb31c4a",
          "grade": false,
          "grade_id": "cell-300d5071dadb1cda",
          "locked": true,
          "schema_version": 3,
          "solution": false,
          "task": false
        }
      },
      "source": [
        "## Step 1: Recall the MNIST Dataset\n",
        "\n",
        "We will use the MNIST digits dataset throughout this excercise.  Recall from your previous labs that the MNIST dataset provides 60000 28x28 pixel grayscale training images of hand-written digits 0-9.  The images are labeled with integer values 0-9.  The training set has become the defacto image classification example due to its small size.  \n",
        "\n",
        "In this excercise, we are not interested in classifying images of digits.  Instead, we will think of the images as defining a 28x28 = 784 element feature space.  In this context, we are interested in transforming the 784 parameters into a smaller set of transformed coordinates.  \n",
        "\n",
        "**Exercise 1.1:** Before continuing to the next section, use the keras datasets module to load the MNIST dataset and get to know how it is structured."
      ]
    },
    {
      "cell_type": "code",
      "execution_count": null,
      "metadata": {
        "deletable": false,
        "editable": false,
        "id": "aol51DVe9_zg",
        "nbgrader": {
          "cell_type": "code",
          "checksum": "f22eaa1d676042b070a6350883716099",
          "grade": false,
          "grade_id": "cell-5578dbe82b796689",
          "locked": true,
          "schema_version": 3,
          "solution": false,
          "task": false
        }
      },
      "outputs": [],
      "source": [
        "(x_train, y_train), (x_test, y_test) = mnist.load_data()\n",
        "x_train = x_train / 255.0\n",
        "x_test  = x_test / 255.0"
      ]
    },
    {
      "cell_type": "markdown",
      "metadata": {
        "deletable": false,
        "editable": false,
        "nbgrader": {
          "cell_type": "markdown",
          "checksum": "3fe5fb92e166c8006d5cbf3b5882b3ea",
          "grade": false,
          "grade_id": "cell-20f834cafc7b29ff",
          "locked": true,
          "schema_version": 3,
          "solution": false,
          "task": false
        },
        "id": "TXXELqAPsmOy"
      },
      "source": [
        "- Inspect the dataset. What is the shape of x_train and y_train?"
      ]
    },
    {
      "cell_type": "code",
      "execution_count": null,
      "metadata": {
        "deletable": false,
        "nbgrader": {
          "cell_type": "code",
          "checksum": "7180ecf42e7b5d3b51851c6ea7517cb3",
          "grade": true,
          "grade_id": "cell-9d6cdf3c9264786d",
          "locked": false,
          "points": 0,
          "schema_version": 3,
          "solution": true,
          "task": false
        },
        "id": "QotVlSyOsmOy",
        "colab": {
          "base_uri": "https://localhost:8080/"
        },
        "outputId": "390682d1-c61b-4b3b-fa86-d03449e73718"
      },
      "outputs": [
        {
          "output_type": "execute_result",
          "data": {
            "text/plain": [
              "((60000, 28, 28), (60000,))"
            ]
          },
          "metadata": {},
          "execution_count": 8
        }
      ],
      "source": [
        "x_train.shape, y_train.shape"
      ]
    },
    {
      "cell_type": "markdown",
      "metadata": {
        "deletable": false,
        "editable": false,
        "nbgrader": {
          "cell_type": "markdown",
          "checksum": "38ee6cd1928d94ceb55d1b4c62b39778",
          "grade": false,
          "grade_id": "cell-aaa8fa0844b590da",
          "locked": true,
          "schema_version": 3,
          "solution": false,
          "task": false
        },
        "id": "Egp6yIoxsmOy"
      },
      "source": [
        "- Plot a few images using matplotlib.pyplot to see what they look like."
      ]
    },
    {
      "cell_type": "code",
      "execution_count": null,
      "metadata": {
        "deletable": false,
        "nbgrader": {
          "cell_type": "code",
          "checksum": "24ea2750aef2687266cdfd26c90d66c4",
          "grade": true,
          "grade_id": "cell-e26784650bc5c284",
          "locked": false,
          "points": 0,
          "schema_version": 3,
          "solution": true,
          "task": false
        },
        "id": "pEfeV0dwsmOy",
        "colab": {
          "base_uri": "https://localhost:8080/",
          "height": 283
        },
        "outputId": "8d734727-3a88-48fb-c172-cb48160e2501"
      },
      "outputs": [
        {
          "output_type": "execute_result",
          "data": {
            "text/plain": [
              "<matplotlib.image.AxesImage at 0x7fe483bba5b0>"
            ]
          },
          "metadata": {},
          "execution_count": 9
        },
        {
          "output_type": "display_data",
          "data": {
            "text/plain": [
              "<Figure size 432x288 with 1 Axes>"
            ],
            "image/png": "[encoded data removed]"
          },
          "metadata": {
            "needs_background": "light"
          }
        }
      ],
      "source": [
        "plt.imshow(x_train[103])"
      ]
    },
    {
      "cell_type": "markdown",
      "metadata": {
        "id": "3gkFxMdF9_zj"
      },
      "source": [
        "## Step 2: Principle Component Analysis (PCA)\n",
        "\n",
        "The goal of PCA is to perform an orthogonal transformation which converts a set of observations of possibly correlated variables into a set of values of linearly uncorrelated variables, called _principle components_.  This can be thought of as fitting an n-dimensional ellipsoid to the observations.  \n",
        "\n",
        "Let's consider a dataset $X\\in R^{n\\times p}$, where $n$ is the number of observations and $p$ the number of variables.  PCA transforms $X$ into a new coordinate system (new variable set), such that the greatest variance in the data is captured in the first coordinate, and then the second, and so on.  More specifically, the transformed coordinates $T \\in R^{n\\times p}$ are written as a linear combination of the original dataset,\n",
        "\n",
        "$$ T = X W, $$\n",
        "\n",
        "where $W \\in R^{p\\times p}$ is the transformation matrix.  The first column of $W$, denoted as $w_1$, is constructed to maximize the variance of the transformed coordinates.\n",
        "\n",
        "$$ w_1 = \\underset{\\|w\\|=1}{\\operatorname{argmax}} \\sum_{i=1}^{n} (t_1)_i^2 = \\underset{\\|w\\|=1}{\\operatorname{argmax}} \\| X w \\|_2^2 = \\underset{\\|w\\|=1}{\\operatorname{argmax}} \\frac{w^T X^T X w}{w^T w} $$\n",
        "\n",
        "The ratio in the last term is known as the _Rayleigh quotient_.  It is well known that for the positive, semidefinite matrix $X^T X$, the largest value of the Rayleigh quotient is given as the largest eigenvalue of the matrix, where $w$ is eigenvector associated with that eigenvalue.\n",
        "\n",
        "The remaining columns of $W$ can be found by finding the the next orthogonal linear combination which maximizes the variance of the data, minus the previously transformed coordinates.\n",
        "\n",
        "$$ w_k = \\underset{\\|w\\|=1}{\\operatorname{argmax}} \\| (X - \\sum_{s=1}^{k-1} X w_s w_s^T) w \\|^2_2 $$\n",
        "\n",
        "Practically, the columns of $W$ are typically computed as the eigenvectors of $X^T X$ ordered by their corresponding eigenvalues in descending order.\n",
        "\n",
        "### Singular Value Decomposition\n",
        "\n",
        "The Singular Value Decomposition of a matrix $X \\in R^{n\\times p}$ is given as\n",
        "\n",
        "$$ X = U \\Sigma W^T, $$\n",
        "\n",
        "where $\\Sigma \\in R^{n\\times p}$ is a rectangular diagonal matrix of positive values known as the singular values of $X$, $\\sigma(X)$, and $U \\in R^{n\\times n}$ and $W \\in R^{p\\times p}$ are orthonormal matrices, whose columns are the left and right (respectively) singular vectors of the matrix $X$.  Using this decomposition, we can easily see that\n",
        "\n",
        "$$ X^T X = W \\hat{\\Sigma} W^T, $$\n",
        "\n",
        "where $\\hat{\\Sigma}$ is a square diagonal matrix of the squared singular values of $X$.  Comparing this to the eigenvalue decomposition of $X^T X = Q \\Lambda Q^T$, we see that the singular values of $X$ represent the square-root of the eigenvalues of $X^T X$, and the singular vectors of $X$ are simply the eigenvectors of $X^T X$.  Therefore, we can perform PCA on a data matrix $X$ by computing its right singular vector matrix, $W$.\n",
        "\n",
        "### Dimensionality Reduction\n",
        "\n",
        "We can reduce the dimensionality of our data by truncating the transformed variables to include only a subset of those variables with the highest variance.  For example, if we keep the first $L <= p$ variables, the reduced transformation reads\n",
        "\n",
        "$$ T_L = X W_L, $$\n",
        "\n",
        "where $W_L \\in R^{n\\times L}$ is the eigenvector matrix as before, but taking only the first $L$ columns.  This technique has been widely used to reduce the dimension of large-dimensioned datasets by accounting for the directions of largest variance in the data, while neglecting the other directions.  In addition, this can also be used to remove noise from a dataset, in which it is assumed that the noise accounts for a small degree of variance, compared to the true underlying parameterization.  Finally, using PCA to find the 2 highest varying parameters can also allow us to visualize a high-dimensional dataset.  \n",
        "\n",
        "**Exercise 2.1:** Visualize the MNIST dataset in 2 dimensions.\n",
        "\n",
        "- Use numpy to [compute the SVD](https://docs.scipy.org/doc/numpy/reference/generated/numpy.linalg.svd.html) of the MNIST images.  Note, you will first need to reshape the array to 2D with n = 60000 and p = 28 x 28 = 784.\n",
        "- Compute the first two principle components by truncating the eigenvector matrix before multiplying by the data array.\n",
        "- Plot the two principle components on a scatter plot with matplotlib.pyplot.scatter, using the image labels to color the markers. (Hint: it might be easier to see if you plot fewer points)\n",
        "- What do you notice about the how the data is presented in the plot?\n",
        "- Which images form a tight cluster in the reduced space?"
      ]
    },
    {
      "cell_type": "code",
      "execution_count": null,
      "metadata": {
        "deletable": false,
        "id": "zH4l04-a9_zk",
        "nbgrader": {
          "cell_type": "code",
          "checksum": "06ebe48694b5e6b169c239abf68672a5",
          "grade": true,
          "grade_id": "cell-64064a1bfedd649e",
          "locked": false,
          "points": 0,
          "schema_version": 3,
          "solution": true,
          "task": false
        }
      },
      "outputs": [],
      "source": [
        "N = 60000\n",
        "X_train = np.reshape(x_train, (N,-1))\n",
        "y_train = np.reshape(y_train, (N, -1))\n",
        "\n",
        "u, s, w = np.linalg.svd(X_train[:10000])"
      ]
    },
    {
      "cell_type": "code",
      "source": [
        "T = X_train.dot(w[:, :2])\n",
        "print(T.shape, u.shape, s.shape, w.shape)"
      ],
      "metadata": {
        "colab": {
          "base_uri": "https://localhost:8080/"
        },
        "id": "ib2t_Ksl0CKW",
        "outputId": "5b0d47cb-a783-43ed-edff-4755c3f0f667"
      },
      "execution_count": null,
      "outputs": [
        {
          "output_type": "stream",
          "name": "stdout",
          "text": [
            "(60000, 2) (10000, 10000) (784,) (784, 784)\n"
          ]
        }
      ]
    },
    {
      "cell_type": "code",
      "source": [
        "points = 5000\n",
        "plt.scatter(T[:points,0], T[:points,1], c = y_train[:points])"
      ],
      "metadata": {
        "colab": {
          "base_uri": "https://localhost:8080/",
          "height": 283
        },
        "id": "iTY2BDmJ0zMq",
        "outputId": "a5df2367-ba2f-4d7b-d1e1-1c46406c099c"
      },
      "execution_count": null,
      "outputs": [
        {
          "output_type": "execute_result",
          "data": {
            "text/plain": [
              "<matplotlib.collections.PathCollection at 0x7fe482dc1fd0>"
            ]
          },
          "metadata": {},
          "execution_count": 31
        },
        {
          "output_type": "display_data",
          "data": {
            "text/plain": [
              "<Figure size 432x288 with 1 Axes>"
            ],
            "image/png": "[encoded data removed]"
          },
          "metadata": {
            "needs_background": "light"
          }
        }
      ]
    },
    {
      "cell_type": "markdown",
      "metadata": {
        "deletable": false,
        "editable": false,
        "id": "eszpfZea9_zm",
        "nbgrader": {
          "cell_type": "markdown",
          "checksum": "9e10b48cf93d868936adc424cc5ba231",
          "grade": false,
          "grade_id": "cell-393dac907407f302",
          "locked": true,
          "schema_version": 3,
          "solution": false,
          "task": false
        }
      },
      "source": [
        "### Scree Plot\n",
        "\n",
        "It is not always clear how many principle components are necessary to accurately represent the high-dimensional space.  There are two widely used methods to help us get a sense of the number variables required.  The first is called a Scree plot, which plots the eigenvalues of $X^T X$ in descending order.  Since the eigenvalues represent the degree of variance in the corresponding principle components, such a plot can tell use how many components are needed before we reach diminishing returns.\n",
        "\n",
        "**Exercise 2.2:** Plot the Scree plot for the MNIST data.\n",
        "- How many principle components are needed to represent most of the variance."
      ]
    },
    {
      "cell_type": "code",
      "execution_count": null,
      "metadata": {
        "deletable": false,
        "id": "X4XVVYsG9_zn",
        "nbgrader": {
          "cell_type": "code",
          "checksum": "c9f21e0460c7249ccef82c7903b45270",
          "grade": true,
          "grade_id": "cell-e5cc5173dd01d628",
          "locked": false,
          "points": 0,
          "schema_version": 3,
          "solution": true,
          "task": false
        },
        "colab": {
          "base_uri": "https://localhost:8080/",
          "height": 283
        },
        "outputId": "cd82f77e-a9e8-4167-fa55-a4ae0b18e2ab"
      },
      "outputs": [
        {
          "output_type": "execute_result",
          "data": {
            "text/plain": [
              "[<matplotlib.lines.Line2D at 0x7fe47c420940>]"
            ]
          },
          "metadata": {},
          "execution_count": 49
        },
        {
          "output_type": "display_data",
          "data": {
            "text/plain": [
              "<Figure size 432x288 with 1 Axes>"
            ],
            "image/png": "[encoded data removed]"
          },
          "metadata": {
            "needs_background": "light"
          }
        }
      ],
      "source": [
        "plt.plot(s,'ro')"
      ]
    },
    {
      "cell_type": "markdown",
      "metadata": {
        "deletable": false,
        "editable": false,
        "id": "BPnoC5F09_zp",
        "nbgrader": {
          "cell_type": "markdown",
          "checksum": "457eb8135267a9248f81753719b92993",
          "grade": false,
          "grade_id": "cell-1726eec4aab83ef6",
          "locked": true,
          "schema_version": 3,
          "solution": false,
          "task": false
        }
      },
      "source": [
        "### Total Variance Explained\n",
        "\n",
        "Another method is called _Total Variance Explained_.  In this method, we plot the cumulative sum of the eigenvalues and choose the number of components which give us a certain percentage fo the total variance.\n",
        "\n",
        "**Exercise 2.3:** Plot the cumulative sum of the eigenvalues.\n",
        "- Plot a horizontal line at 95% of the total sum.\n",
        "- Based on this, how many components are needed to capture 95% of the variance?\n",
        "- How does this compare to the Scree plot result?"
      ]
    },
    {
      "cell_type": "code",
      "execution_count": null,
      "metadata": {
        "deletable": false,
        "id": "Z53KPM1F9_zq",
        "nbgrader": {
          "cell_type": "code",
          "checksum": "e547e9a2c76c48a11baf5323ec604746",
          "grade": true,
          "grade_id": "cell-a5222e0e13103b9a",
          "locked": false,
          "points": 0,
          "schema_version": 3,
          "solution": true,
          "task": false
        },
        "colab": {
          "base_uri": "https://localhost:8080/",
          "height": 301
        },
        "outputId": "33da5d45-c094-4028-ed2e-6c4eef9f81a8"
      },
      "outputs": [
        {
          "output_type": "stream",
          "name": "stdout",
          "text": [
            "9496.26457134836\n",
            "419 9495.191829699581 9500.065156065883\n"
          ]
        },
        {
          "output_type": "display_data",
          "data": {
            "text/plain": [
              "<Figure size 432x288 with 1 Axes>"
            ],
            "image/png": "[encoded data removed]"
          },
          "metadata": {
            "needs_background": "light"
          }
        }
      ],
      "source": [
        "pres = np.cumsum(s)\n",
        "plt.plot(pres,'ro')\n",
        "val = np.sum(s) * 0.95\n",
        "print(val)\n",
        "plt.plot(np.arange(784),[val]*784)\n",
        "component_need = np.searchsorted(pres, val)\n",
        "print(component_need, pres[component_need-1], pres[component_need])"
      ]
    },
    {
      "cell_type": "markdown",
      "metadata": {
        "deletable": false,
        "editable": false,
        "id": "yTRY_Mzw9_zs",
        "nbgrader": {
          "cell_type": "markdown",
          "checksum": "3e562057f2ed988240376ea8c4380bac",
          "grade": false,
          "grade_id": "cell-cf39ce4971003a6b",
          "locked": true,
          "schema_version": 3,
          "solution": false,
          "task": false
        }
      },
      "source": [
        "### Reconstruct Images\n",
        "\n",
        "Now that we have an idea of how many principle components are necessary, let's use them to encode the images in a smaller set of features, which we can then decode to reconstruct the images from the lower-dimensional space.  Recall that based on the PCA transformation, we can compute the reconstructed images with\n",
        "\n",
        "$$ \\hat{X} = (X W_L) W_L^T $$\n",
        "\n",
        "**Exercise 2.4:** Plot original and reconstruct images.\n",
        "- Create a grid of images using pyplot.subplots and imshow.\n",
        "  - In the first row, plot the first 5 images of the dataset.\n",
        "  - In the next 4 rows, plot reconstructions of the images using the first 5, 15, 30, and 100 principle component vectors.\n",
        "- How do the reconstructed images compare with the originals as you increase the size of the reduced space?\n",
        "\n",
        "Note that once we have computed the transformation matrix $W$, we essentially have a compression scheme to convert our images into a compressed format.  From this perspective, using the first 5, 10, 30, and 100 principle components is equivalent to compressing the data at a rate of 156:1, 78:1, 26:1, and 8:1, respectively.  By contrast, JPEG image compression can obtain compression ratios of 23:1 with reasonable image quality, surpassing the quality of reconstructions with PCA.  For that reason, PCA is not really used for image compression, but it has been used in a number of other fields, particularly in physics and engineering.\n"
      ]
    },
    {
      "cell_type": "code",
      "source": [
        "# First create some toy data:\n",
        "x = np.linspace(0, 2*np.pi, 400)\n",
        "y = np.sin(x**2)\n",
        "\n",
        "# Create just a figure and only one subplot\n",
        "fig, ax = plt.subplots()\n",
        "ax.plot(x, y)\n",
        "ax.set_title('Simple plot')\n",
        "\n",
        "# Create two subplots and unpack the output array immediately\n",
        "f, (ax1, ax2) = plt.subplots(1, 2, sharey=True)\n",
        "ax1.plot(x, y)\n",
        "ax1.set_title('Sharing Y axis')\n",
        "ax2.scatter(x, y)\n",
        "\n",
        "# Create four polar axes and access them through the returned array\n",
        "fig, axs = plt.subplots(2, 2, subplot_kw=dict(projection=\"polar\"))\n",
        "axs[0, 0].plot(x, y)\n",
        "axs[1, 1].scatter(x, y)\n",
        "\n",
        "# Share a X axis with each column of subplots\n",
        "plt.subplots(2, 2, sharex='col')\n",
        "\n",
        "# Share a Y axis with each row of subplots\n",
        "plt.subplots(2, 2, sharey='row')\n",
        "\n",
        "# Share both X and Y axes with all subplots\n",
        "plt.subplots(2, 2, sharex='all', sharey='all')\n",
        "\n",
        "# Note that this is the same as\n",
        "plt.subplots(2, 2, sharex=True, sharey=True)\n",
        "\n",
        "# Create figure number 10 with a single subplot\n",
        "# and clears it if it already exists.\n",
        "fig, ax = plt.subplots(num=10, clear=True)"
      ],
      "metadata": {
        "id": "wcXxeVOY-YMQ"
      },
      "execution_count": null,
      "outputs": []
    },
    {
      "cell_type": "code",
      "execution_count": 84,
      "metadata": {
        "deletable": false,
        "id": "iVi8wfbv9_zu",
        "nbgrader": {
          "cell_type": "code",
          "checksum": "0545f5bc83ecb3f8aec0a8b7ff3f52a2",
          "grade": true,
          "grade_id": "cell-eccb6e16ec08a07e",
          "locked": false,
          "points": 0,
          "schema_version": 3,
          "solution": true,
          "task": false
        },
        "colab": {
          "base_uri": "https://localhost:8080/",
          "height": 269
        },
        "outputId": "f7fc098a-1415-4aec-ecba-6d8ac1a1a5af"
      },
      "outputs": [
        {
          "output_type": "display_data",
          "data": {
            "text/plain": [
              "<Figure size 432x288 with 30 Axes>"
            ],
            "image/png": "[encoded data removed]"
          },
          "metadata": {
            "needs_background": "light"
          }
        }
      ],
      "source": [
        "component_vec = [5, 15, 30, 100, 419]\n",
        "image_sample = 5\n",
        "\n",
        "for i in range(image_sample):\n",
        "    ax = plt.subplot(len(component_vec)+1, image_sample, i+1, frame_on=False) \n",
        "    ax = plt.imshow(X_train[i].reshape((28,28)))\n",
        "\n",
        "for id, L in enumerate(component_vec):\n",
        "    W = w[:,:L]\n",
        "    Xhat = X_train.dot(W).dot(W.T)\n",
        "    for i in range(image_sample):\n",
        "        ax = plt.subplot(len(component_vec)+1, image_sample, (id+1)*5+i+1, frame_on=False) \n",
        "        ax = plt.imshow(Xhat[i].reshape((28,28)))"
      ]
    },
    {
      "cell_type": "markdown",
      "metadata": {
        "deletable": false,
        "editable": false,
        "id": "s_Yv_eRA9_zv",
        "nbgrader": {
          "cell_type": "markdown",
          "checksum": "493cbe8464bc786839c71a1117b9be67",
          "grade": false,
          "grade_id": "cell-07f9bbbd3f6f30ee",
          "locked": true,
          "schema_version": 3,
          "solution": false,
          "task": false
        }
      },
      "source": [
        "## Step 3: Autoencoders\n",
        "\n",
        "In this next part, we will devise a compression strategy using another method, autoencoders.  Autoencoders are neural networks which are trained to output their input in such a way that they learn a reduced dimensional space of the input distribution.  They are general composed of two distinct layers. The first encodes the input space (encoder) and the second decodes the encoded space back to the original feature space (decoder).  There are 3 basic types of autoencoders:\n",
        "1. __Undercomplete__ autoencoders work by constructing a network that has a hidden code layer that has fewer nodes than the input and output layers.  After training, the smaller hidden layer will represent an encoding of the input onto a lower dimensional space.\n",
        "2. __Regularized__ autoencoders use various regularization terms in the loss function during training to constrict the space of the output.  For example, sparse autoencoders add a sparsity regularization term in the loss to force as many nodes in the hidden layers to be zero.\n",
        "3. __Variational__ autoencoders work slightly differently than the previous two.  In this case, the autoencoder learns parameters that model the distribution of the input data in the encoder.  The decoder is then used to reconstruct the output based on a random sample from this distribution.  Some variational autoencoders have been used for image generation. \n",
        "\n",
        "In this exercise, we will construct two undercomplete autoencoders and train them on the MNIST data as before.\n",
        "\n",
        "### Dense linear decoder\n",
        "\n",
        "It is well known that an autoencoder with a linear decoder layer and a mean-squared-error loss function will learn the same feature space as PCA.  Let's check this by creating a simple linear autoencoder.\n",
        "\n",
        "**Exercise 3.1:** Create a simple linear autoencoder.\n",
        "\n",
        "- Write a funtion which takes the `input_size` and the `code_size` and returns an autoencoder model using Keras.\n",
        "  - The autoencoder should be comprised of\n",
        "    - A dense encoder layer taking `input_size` inputs with `code_size` nodes and ReLU activation.\n",
        "    - A linear decoder layer with `input_size` nodes.\n",
        "  - Compile the model using the Adam optimizer and MSE loss\n",
        "  - In addition to the autoencoder, return another model which just takes the input and returns the output of the encoder layer.  For hints, see the [functional API documentation](https://keras.io/getting-started/functional-api-guide/).\n",
        " "
      ]
    },
    {
      "cell_type": "code",
      "execution_count": 110,
      "metadata": {
        "deletable": false,
        "id": "v0Or6sDL9_zw",
        "nbgrader": {
          "cell_type": "code",
          "checksum": "8c89cc640c0f17c6bf815799164dbfb0",
          "grade": false,
          "grade_id": "cell-54929da0cc7fa40d",
          "locked": false,
          "schema_version": 3,
          "solution": true,
          "task": false
        }
      },
      "outputs": [],
      "source": [
        "def linear_autoencoder(input_size, code_size):\n",
        "    input_img = Input(shape=(input_size,))\n",
        "    encode = Dense(code_size, activation=\"relu\")(input_img)\n",
        "    decode = Dense(input_size, activation=\"relu\")(encode)\n",
        "    autoencoder = Model(input_img, decode)\n",
        "    encoder = Model(input_img, encode)\n",
        "    autoencoder.compile(optimizer='adam', loss='MeanSquaredError')\n",
        "    return autoencoder, encoder"
      ]
    },
    {
      "cell_type": "markdown",
      "metadata": {
        "deletable": false,
        "editable": false,
        "id": "b50NdnEy9_zz",
        "nbgrader": {
          "cell_type": "markdown",
          "checksum": "7be25cab9e6f6557672f6a69105da8ce",
          "grade": false,
          "grade_id": "cell-d09ada99d4caca94",
          "locked": true,
          "schema_version": 3,
          "solution": false,
          "task": false
        }
      },
      "source": [
        "**Exercise 3.2:** Train the autoencoder.\n",
        "\n",
        "- Using your function, create a linear autoencoder with `input_size` = 784 and `reduced_size` = 2.\n",
        "- Train the model using the MNIST data as input and output for 5 epochs.\n",
        "- Plot the history of the loss versus the epoch number to make sure training is basically complete."
      ]
    },
    {
      "cell_type": "code",
      "execution_count": 111,
      "metadata": {
        "deletable": false,
        "id": "vHMQttV29_zz",
        "nbgrader": {
          "cell_type": "code",
          "checksum": "4b84ba6980a8acad689b407c9d6247c3",
          "grade": true,
          "grade_id": "cell-11f8343be4f3dbd3",
          "locked": false,
          "points": 0,
          "schema_version": 3,
          "solution": true,
          "task": false
        },
        "colab": {
          "base_uri": "https://localhost:8080/"
        },
        "outputId": "4ff615a4-a4ca-4e32-84d7-9d23457a6124"
      },
      "outputs": [
        {
          "output_type": "stream",
          "name": "stdout",
          "text": [
            "Epoch 1/10\n",
            "1875/1875 [==============================] - 7s 3ms/step - loss: 11.7145\n",
            "Epoch 2/10\n",
            "1875/1875 [==============================] - 4s 2ms/step - loss: 10.1600\n",
            "Epoch 3/10\n",
            "1875/1875 [==============================] - 4s 2ms/step - loss: 10.0073\n",
            "Epoch 4/10\n",
            "1875/1875 [==============================] - 5s 3ms/step - loss: 9.9118\n",
            "Epoch 5/10\n",
            "1875/1875 [==============================] - 4s 2ms/step - loss: 9.7869\n",
            "Epoch 6/10\n",
            "1875/1875 [==============================] - 4s 2ms/step - loss: 9.7158\n",
            "Epoch 7/10\n",
            "1875/1875 [==============================] - 5s 3ms/step - loss: 9.6701\n",
            "Epoch 8/10\n",
            "1875/1875 [==============================] - 4s 2ms/step - loss: 9.6348\n",
            "Epoch 9/10\n",
            "1875/1875 [==============================] - 4s 2ms/step - loss: 9.6098\n",
            "Epoch 10/10\n",
            "1875/1875 [==============================] - 5s 3ms/step - loss: 9.5862\n"
          ]
        }
      ],
      "source": [
        "autoencoder, encoder = linear_autoencoder(784, 2)\n",
        "history = autoencoder.fit(X_train, y_train, epochs=10)"
      ]
    },
    {
      "cell_type": "code",
      "source": [
        "plt.plot(np.arange(0, 10), history.history['loss'])"
      ],
      "metadata": {
        "colab": {
          "base_uri": "https://localhost:8080/",
          "height": 283
        },
        "id": "XkewvY_MO1WU",
        "outputId": "15118800-f533-414c-fe28-90791837cec9"
      },
      "execution_count": 103,
      "outputs": [
        {
          "output_type": "execute_result",
          "data": {
            "text/plain": [
              "[<matplotlib.lines.Line2D at 0x7fe47bec2550>]"
            ]
          },
          "metadata": {},
          "execution_count": 103
        },
        {
          "output_type": "display_data",
          "data": {
            "text/plain": [
              "<Figure size 432x288 with 1 Axes>"
            ],
            "image/png": "[encoded data removed]"
          },
          "metadata": {
            "needs_background": "light"
          }
        }
      ]
    },
    {
      "cell_type": "markdown",
      "metadata": {
        "deletable": false,
        "editable": false,
        "id": "h-QCBJJF9_z2",
        "nbgrader": {
          "cell_type": "markdown",
          "checksum": "a194904f46f1286671ff40c02dcc38d1",
          "grade": false,
          "grade_id": "cell-5903ff45970a6778",
          "locked": true,
          "schema_version": 3,
          "solution": false,
          "task": false
        }
      },
      "source": [
        "**Exercise 3.3:** Use the trained encoder to encode the MNIST data to 2 variables.\n",
        "- Plot the two components in a scatter plot as with the PCA result.\n",
        "- How does the scatter plot compare to the one you made with PCA?  Recall that this autoencoder should learn the same vector space as PCA, though it will not learn the exact same transformation (could be rotated, scaled, etc.)."
      ]
    },
    {
      "cell_type": "code",
      "execution_count": 115,
      "metadata": {
        "deletable": false,
        "id": "ZPqPGscZ9_z4",
        "nbgrader": {
          "cell_type": "code",
          "checksum": "f83cca0633a77395cbd6cfb3a2c3b783",
          "grade": true,
          "grade_id": "cell-b3b4309b82b46ee8",
          "locked": false,
          "points": 0,
          "schema_version": 3,
          "solution": true,
          "task": false
        },
        "colab": {
          "base_uri": "https://localhost:8080/",
          "height": 301
        },
        "outputId": "2032b6aa-8889-432d-c254-aeee15a031ab"
      },
      "outputs": [
        {
          "output_type": "stream",
          "name": "stdout",
          "text": [
            "1875/1875 [==============================] - 3s 2ms/step\n"
          ]
        },
        {
          "output_type": "execute_result",
          "data": {
            "text/plain": [
              "<matplotlib.collections.PathCollection at 0x7fe4829c3eb0>"
            ]
          },
          "metadata": {},
          "execution_count": 115
        },
        {
          "output_type": "display_data",
          "data": {
            "text/plain": [
              "<Figure size 432x288 with 1 Axes>"
            ],
            "image/png": "[encoded data removed]"
          },
          "metadata": {
            "needs_background": "light"
          }
        }
      ],
      "source": [
        "newX = encoder.predict(X_train)\n",
        "plt.scatter(newX[:5000,0], newX[:5000,1])"
      ]
    },
    {
      "cell_type": "markdown",
      "metadata": {
        "deletable": false,
        "editable": false,
        "id": "CEIYONHn9_z6",
        "nbgrader": {
          "cell_type": "markdown",
          "checksum": "4e29f0478b1b070f4243f0f6402620a3",
          "grade": false,
          "grade_id": "cell-4bfba8f586246378",
          "locked": true,
          "schema_version": 3,
          "solution": false,
          "task": false
        }
      },
      "source": [
        "### Nonlinear Decoder\n",
        "\n",
        "We saw in the previous section that linear decoders and MSE loss produce the same result as PCA.  Therefore, we can see nonlinear decoders as a nonlinear generalization of PCA.  By allowing nonlinear transformations, we should be able to increase the expressiveness of our reduced variables.  \n",
        "\n",
        "**Exercise 3.4:** Create a nonlinear autoencoder.\n",
        "\n",
        "- Copy your linear autoencoder function, naming it differently to produce a nonlinear AE.\n",
        "- Add a dense hidden layer in between the encoder output and decoder output layers.  Give the hidden layer `input_size`/2 nodes and use ReLU activation."
      ]
    },
    {
      "cell_type": "code",
      "execution_count": 116,
      "metadata": {
        "deletable": false,
        "id": "W1WyYdo69_z7",
        "nbgrader": {
          "cell_type": "code",
          "checksum": "279701578ed809a5e3a44ec33c6c500e",
          "grade": false,
          "grade_id": "cell-d52c5f608a0fd7bf",
          "locked": false,
          "schema_version": 3,
          "solution": true,
          "task": false
        }
      },
      "outputs": [],
      "source": [
        "def nonlinear_autoencoder(input_size, code_size):\n",
        "    input_img = Input(shape=(input_size,))\n",
        "    encode = Dense(code_size, activation=\"relu\")(input_img)\n",
        "    middle = Dense(input_size/2, activation=\"relu\")(encode)\n",
        "    decode = Dense(input_size, activation=\"relu\")(middle)\n",
        "    autoencoder = Model(input_img, decode)\n",
        "    encoder = Model(input_img, encode)\n",
        "    autoencoder.compile(optimizer='adam', loss='MeanSquaredError')\n",
        "    return autoencoder, encoder"
      ]
    },
    {
      "cell_type": "markdown",
      "metadata": {
        "deletable": false,
        "editable": false,
        "id": "Psakm9VQ9_z8",
        "nbgrader": {
          "cell_type": "markdown",
          "checksum": "06485c026643c79309e20907e971c23c",
          "grade": false,
          "grade_id": "cell-5e9f2e6f5f0bf38a",
          "locked": true,
          "schema_version": 3,
          "solution": false,
          "task": false
        }
      },
      "source": [
        "**Exercise 3.5:** Train nonlinear reduced model.\n",
        "- Create the nonlinear AE using 2 variables as with the linear model.\n",
        "- Train as before and plot the loss history."
      ]
    },
    {
      "cell_type": "code",
      "execution_count": 124,
      "metadata": {
        "deletable": false,
        "id": "rmvB9j-a9_z9",
        "nbgrader": {
          "cell_type": "code",
          "checksum": "f0ea6eed9c961a4f2ba4365bd9aceb47",
          "grade": true,
          "grade_id": "cell-8358ad3d04c93336",
          "locked": false,
          "points": 0,
          "schema_version": 3,
          "solution": true,
          "task": false
        },
        "colab": {
          "base_uri": "https://localhost:8080/"
        },
        "outputId": "be36516d-821a-4992-b6fc-d020f83398ce"
      },
      "outputs": [
        {
          "output_type": "stream",
          "name": "stdout",
          "text": [
            "Epoch 1/10\n",
            "1875/1875 [==============================] - 15s 8ms/step - loss: 8.7389\n",
            "Epoch 2/10\n",
            "1875/1875 [==============================] - 15s 8ms/step - loss: 7.4656\n",
            "Epoch 3/10\n",
            "1875/1875 [==============================] - 14s 8ms/step - loss: 7.2021\n",
            "Epoch 4/10\n",
            "1875/1875 [==============================] - 15s 8ms/step - loss: 6.9662\n",
            "Epoch 5/10\n",
            "1875/1875 [==============================] - 15s 8ms/step - loss: 6.6942\n",
            "Epoch 6/10\n",
            "1875/1875 [==============================] - 15s 8ms/step - loss: 6.5755\n",
            "Epoch 7/10\n",
            "1875/1875 [==============================] - 14s 8ms/step - loss: 6.1578\n",
            "Epoch 8/10\n",
            "1875/1875 [==============================] - 14s 8ms/step - loss: 5.9555\n",
            "Epoch 9/10\n",
            "1875/1875 [==============================] - 15s 8ms/step - loss: 5.6043\n",
            "Epoch 10/10\n",
            "1875/1875 [==============================] - 14s 8ms/step - loss: 5.2715\n"
          ]
        }
      ],
      "source": [
        "autoencoder, encoder = nonlinear_autoencoder(784, 2)\n",
        "history = autoencoder.fit(X_train, y_train, epochs=10)"
      ]
    },
    {
      "cell_type": "code",
      "source": [
        "plt.plot(np.arange(0, 10), history.history['loss'])"
      ],
      "metadata": {
        "colab": {
          "base_uri": "https://localhost:8080/",
          "height": 283
        },
        "id": "YuyNNn8bTkPX",
        "outputId": "e20248af-387f-48b8-8fbb-376175c88867"
      },
      "execution_count": 125,
      "outputs": [
        {
          "output_type": "execute_result",
          "data": {
            "text/plain": [
              "[<matplotlib.lines.Line2D at 0x7fe47b6e36d0>]"
            ]
          },
          "metadata": {},
          "execution_count": 125
        },
        {
          "output_type": "display_data",
          "data": {
            "text/plain": [
              "<Figure size 432x288 with 1 Axes>"
            ],
            "image/png": "[encoded data removed]"
          },
          "metadata": {
            "needs_background": "light"
          }
        }
      ]
    },
    {
      "cell_type": "markdown",
      "metadata": {
        "deletable": false,
        "editable": false,
        "id": "_GqBlgjb9_z_",
        "nbgrader": {
          "cell_type": "markdown",
          "checksum": "d3b8efa2e85913d12b832999fb5c28a6",
          "grade": false,
          "grade_id": "cell-0a9da84a07bdf2ac",
          "locked": true,
          "schema_version": 3,
          "solution": false,
          "task": false
        }
      },
      "source": [
        "**Exercise 3.6:** Plot the scatter plot of the reduced variables.\n",
        "- What can you say about grouping of points using the nonlinear model?  Does it seem to cluster the digits better than with the linear one? (If it doesn't look any better, try training the model again.)"
      ]
    },
    {
      "cell_type": "code",
      "execution_count": 128,
      "metadata": {
        "deletable": false,
        "id": "tHTJyBo39_0A",
        "nbgrader": {
          "cell_type": "code",
          "checksum": "a2a9ddababe5659b2bc1ba88811c67b0",
          "grade": true,
          "grade_id": "cell-99c8a116eacfd79d",
          "locked": false,
          "points": 0,
          "schema_version": 3,
          "solution": true,
          "task": false
        },
        "colab": {
          "base_uri": "https://localhost:8080/",
          "height": 301
        },
        "outputId": "95fdadc8-a08b-4eda-af98-47ee4729c617"
      },
      "outputs": [
        {
          "output_type": "stream",
          "name": "stdout",
          "text": [
            "1875/1875 [==============================] - 4s 2ms/step\n"
          ]
        },
        {
          "output_type": "execute_result",
          "data": {
            "text/plain": [
              "<matplotlib.collections.PathCollection at 0x7fe47af0a1c0>"
            ]
          },
          "metadata": {},
          "execution_count": 128
        },
        {
          "output_type": "display_data",
          "data": {
            "text/plain": [
              "<Figure size 432x288 with 1 Axes>"
            ],
            "image/png": "[encoded data removed]"
          },
          "metadata": {
            "needs_background": "light"
          }
        }
      ],
      "source": [
        "newX = encoder.predict(X_train)\n",
        "plt.scatter(newX[:,0], newX[:,1])"
      ]
    },
    {
      "cell_type": "markdown",
      "metadata": {
        "deletable": false,
        "editable": false,
        "id": "5veU70oR9_0C",
        "nbgrader": {
          "cell_type": "markdown",
          "checksum": "12f6c8d0df27a81a53c9c0be168a0809",
          "grade": false,
          "grade_id": "cell-92daeb63df0d1092",
          "locked": true,
          "schema_version": 3,
          "solution": false,
          "task": false
        }
      },
      "source": [
        "### Reconstruct Images\n",
        "\n",
        "**Exercise 3.7:** Use the autoencoders to produce reconstructed images from the MNIST data as we did with PCA.\n",
        "- Train linear and nonlinear autoencoders on the MNIST data using a `reduced_size` of 15.\n",
        "- Compare the loss histories of the training for both models on the same plot.  What does this tell you about the expressiveness of the two models?"
      ]
    },
    {
      "cell_type": "code",
      "execution_count": 129,
      "metadata": {
        "deletable": false,
        "id": "Hdgn_1Im9_0C",
        "nbgrader": {
          "cell_type": "code",
          "checksum": "0497a07585a612baeb035b1891fba549",
          "grade": true,
          "grade_id": "cell-56d721348a8462f3",
          "locked": false,
          "points": 0,
          "schema_version": 3,
          "solution": true,
          "task": false
        }
      },
      "outputs": [],
      "source": [
        "auto1, encoder1 = linear_autoencoder(784,15)\n",
        "auto2, encoder2 = nonlinear_autoencoder(784, 15)\n",
        "history = auto1.fit(X_train, y_train, epochs=5)\n",
        "history = auto2.fit(X_train, y_train, epochs=10)"
      ]
    },
    {
      "cell_type": "markdown",
      "metadata": {
        "deletable": false,
        "editable": false,
        "id": "sUQW2Pok9_0F",
        "nbgrader": {
          "cell_type": "markdown",
          "checksum": "7063ffc945400583ef0192c4e10bd0c0",
          "grade": false,
          "grade_id": "cell-a0246d51ca20d914",
          "locked": true,
          "schema_version": 3,
          "solution": false,
          "task": false
        }
      },
      "source": [
        "**Exercise 3.8:** Use the two AEs to produce reconstructed images.\n",
        "- Generate a grid of images\n",
        "  - The first row should contain the first 5 images in the MNIST set as before.\n",
        "  - The second row should contain their reconstruction using the linear model.\n",
        "  - The third row shoudl contain the reconstructions using the nonlinear model.\n",
        "- How well do each of the models reproduce the images? \n",
        "- How do they compare to the PCA reconstructions?"
      ]
    },
    {
      "cell_type": "code",
      "execution_count": null,
      "metadata": {
        "deletable": false,
        "id": "MRAaR5oJ9_0G",
        "nbgrader": {
          "cell_type": "code",
          "checksum": "feaeea0216035047a3af0c83a237bf45",
          "grade": true,
          "grade_id": "cell-cc894327bb4bdb31",
          "locked": false,
          "points": 0,
          "schema_version": 3,
          "solution": true,
          "task": false
        }
      },
      "outputs": [],
      "source": [
        "# YOUR CODE HERE\n",
        "raise NotImplementedError()"
      ]
    }
  ],
  "metadata": {
    "colab": {
      "provenance": [],
      "include_colab_link": true
    },
    "kernelspec": {
      "display_name": "Python 3",
      "language": "python",
      "name": "python3"
    },
    "language_info": {
      "codemirror_mode": {
        "name": "ipython",
        "version": 3
      },
      "file_extension": ".py",
      "mimetype": "text/x-python",
      "name": "python",
      "nbconvert_exporter": "python",
      "pygments_lexer": "ipython3",
      "version": "3.7.4"
    }
  },
  "nbformat": 4,
  "nbformat_minor": 0
}