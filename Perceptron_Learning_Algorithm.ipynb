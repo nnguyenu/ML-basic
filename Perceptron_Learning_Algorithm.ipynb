{
  "nbformat": 4,
  "nbformat_minor": 0,
  "metadata": {
    "colab": {
      "provenance": [],
      "authorship_tag": "ABX9TyM7Dw2fJAEkaDHVwvjkEhbC",
      "include_colab_link": true
    },
    "kernelspec": {
      "name": "python3",
      "display_name": "Python 3"
    },
    "language_info": {
      "name": "python"
    }
  },
  "cells": [
    {
      "cell_type": "markdown",
      "metadata": {
        "id": "view-in-github",
        "colab_type": "text"
      },
      "source": [
        "<a href=\"https://colab.research.google.com/github/nnguyenu/ML-basic/blob/main/Perceptron_Learning_Algorithm.ipynb\" target=\"_parent\"><img src=\"https://colab.research.google.com/assets/colab-badge.svg\" alt=\"Open In Colab\"/></a>"
      ]
    },
    {
      "cell_type": "markdown",
      "source": [
        "$\\mathbf{w}_{t+1}^T\\mathbf{x}_i = (\\mathbf{w}_{t} + y_i\\mathbf{x}_i)^T\\mathbf{x}_{i}\n",
        "= \\mathbf{w}_{t}^T\\mathbf{x}_i + y_i ||\\mathbf{x}_i||_2^2$"
      ],
      "metadata": {
        "id": "2uJ-lWFglu9z"
      }
    },
    {
      "cell_type": "code",
      "execution_count": 18,
      "metadata": {
        "colab": {
          "base_uri": "https://localhost:8080/",
          "height": 355
        },
        "id": "p9H2nYH1hwEM",
        "outputId": "a32b550b-4059-4408-bbed-5245844562e5"
      },
      "outputs": [
        {
          "output_type": "stream",
          "name": "stdout",
          "text": [
            "[[2.22096057 2.70132234 3.08493823 2.02701417 2.73223639 1.21171968\n",
            "  2.22920603 1.8637762  1.74682699 2.37191737]\n",
            " [2.19579728 3.43487375 2.70849736 1.47010441 2.32571583 2.23682627\n",
            "  1.72925457 1.59716548 2.27230351 2.37595358]]\n"
          ]
        },
        {
          "output_type": "display_data",
          "data": {
            "text/plain": [
              "<Figure size 432x288 with 1 Axes>"
            ],
            "image/png": "[encoded data removed]"
          },
          "metadata": {
            "needs_background": "light"
          }
        },
        {
          "output_type": "stream",
          "name": "stdout",
          "text": [
            "(2, 20)\n"
          ]
        }
      ],
      "source": [
        "# generate data with list of points \n",
        "import numpy as np \n",
        "import matplotlib.pyplot as plt\n",
        "from scipy.spatial.distance import cdist\n",
        "np.random.seed(2)\n",
        "\n",
        "means = [[2, 2], [4, 2]]\n",
        "cov = [[.3, .2], [.2, .3]]\n",
        "N = 10\n",
        "# each point is a column\n",
        "X0 = np.random.multivariate_normal(means[0], cov, N).T\n",
        "X1 = np.random.multivariate_normal(means[1], cov, N).T\n",
        "\n",
        "# plot X0,X1\n",
        "x,y = X0\n",
        "plt.scatter(x,y,c='r')\n",
        "x,y = X1\n",
        "plt.scatter(x,y,c='b')\n",
        "plt.axis('equal')\n",
        "plt.show()\n",
        "\n",
        "X = np.concatenate((X0, X1), axis = 1)\n",
        "print(X.shape)\n",
        "y = np.concatenate((np.ones((1, N)), -1*np.ones((1, N))), axis = 1)\n",
        "# Xbar \n",
        "X = np.concatenate((np.ones((1, 2*N)), X), axis = 0)"
      ]
    },
    {
      "cell_type": "code",
      "source": [
        "def h(w, x):    \n",
        "    return np.sign(np.dot(w.T, x))\n",
        "\n",
        "def has_converged(X, y, w):\n",
        "    return np.array_equal(np.sign(np.dot(w.T,X)),y)\n",
        "\n",
        "def perceptron(X, y, w_init):\n",
        "    w = [w_init]\n",
        "    N = X.shape[1]\n",
        "    d = X.shape[0]\n",
        "    mis_points = []\n",
        "    while True:\n",
        "        # mix data \n",
        "        mix_id = np.random.permutation(N)\n",
        "        for i in range(N):\n",
        "            # xi is the mix_id[i]-th column\n",
        "            xi = X[:, mix_id[i]].reshape(d, 1)\n",
        "            yi = y[0, mix_id[i]]\n",
        "            if h(w[-1], xi) != yi: # misclassified point\n",
        "                mis_points.append(mix_id[i])\n",
        "                w_new = w[-1] + yi*xi \n",
        "                w.append(w_new) \n",
        "        if has_converged(X, y, w[-1]):\n",
        "            break\n",
        "    return (w, mis_points)\n",
        "\n",
        "# create (3,1) array with mean 0, variance 1\n",
        "w_init = np.random.randn(X.shape[0], 1)\n",
        "(w, m) = perceptron(X, y, w_init)\n",
        "print(w[-1])"
      ],
      "metadata": {
        "id": "3HNTOdY9oJwg",
        "colab": {
          "base_uri": "https://localhost:8080/"
        },
        "outputId": "47ec8b63-c3d4-40fc-be35-e3667feda838"
      },
      "execution_count": 46,
      "outputs": [
        {
          "output_type": "stream",
          "name": "stdout",
          "text": [
            "[[  5.48398246]\n",
            " [-10.73944233]\n",
            " [ 12.6230547 ]]\n"
          ]
        }
      ]
    },
    {
      "cell_type": "code",
      "source": [],
      "metadata": {
        "id": "VoXjnArws3th"
      },
      "execution_count": null,
      "outputs": []
    }
  ]
}