{
  "nbformat": 4,
  "nbformat_minor": 0,
  "metadata": {
    "colab": {
      "provenance": [],
      "authorship_tag": "ABX9TyMLl43OdxWVw5yqbFEKeEVB",
      "include_colab_link": true
    },
    "kernelspec": {
      "name": "python3",
      "display_name": "Python 3"
    },
    "language_info": {
      "name": "python"
    }
  },
  "cells": [
    {
      "cell_type": "markdown",
      "metadata": {
        "id": "view-in-github",
        "colab_type": "text"
      },
      "source": [
        "<a href=\"https://colab.research.google.com/github/nnguyenu/ML-basic/blob/main/Softmax_Regression_MNIST.ipynb\" target=\"_parent\"><img src=\"https://colab.research.google.com/assets/colab-badge.svg\" alt=\"Open In Colab\"/></a>"
      ]
    },
    {
      "cell_type": "code",
      "source": [
        "import numpy as np \n",
        "import matplotlib.pyplot as plt\n",
        "from sklearn import linear_model\n",
        "from sklearn.metrics import accuracy_score\n",
        "from keras.datasets import mnist"
      ],
      "metadata": {
        "id": "SqcF9BkrfvF8"
      },
      "execution_count": 1,
      "outputs": []
    },
    {
      "cell_type": "code",
      "source": [
        "(X_train, Y_train), (X_test,Y_test) = mnist.load_data()\n",
        "\n",
        "X_train = X_train / 255.0\n",
        "X_test = X_test / 255.0\n",
        "\n",
        "nsamples, nx, ny = X_train.shape\n",
        "X_train = X_train.reshape(nsamples,nx*ny)\n",
        "\n",
        "nsamples, nx, ny = X_test.shape\n",
        "X_test = X_test.reshape(nsamples,nx*ny)\n",
        "\n",
        "#X_train = X_train[:30000]\n",
        "#Y_train = Y_train[:30000]\n",
        "\n",
        "print(X_train.shape,Y_train.shape)"
      ],
      "metadata": {
        "colab": {
          "base_uri": "https://localhost:8080/"
        },
        "id": "T-Eff3ehiSka",
        "outputId": "1ec74fb9-fd3a-4439-bc88-59c6166cce17"
      },
      "execution_count": 23,
      "outputs": [
        {
          "output_type": "stream",
          "name": "stdout",
          "text": [
            "(60000, 784) (60000,)\n"
          ]
        }
      ]
    },
    {
      "cell_type": "code",
      "execution_count": 24,
      "metadata": {
        "colab": {
          "base_uri": "https://localhost:8080/"
        },
        "id": "udABQDRBfF23",
        "outputId": "a499dc16-d19b-419c-f344-27e7b0250d93"
      },
      "outputs": [
        {
          "output_type": "stream",
          "name": "stdout",
          "text": [
            "Accuracy: 92.19000000000001\n"
          ]
        },
        {
          "output_type": "stream",
          "name": "stderr",
          "text": [
            "/usr/local/lib/python3.7/dist-packages/sklearn/linear_model/_logistic.py:818: ConvergenceWarning: lbfgs failed to converge (status=1):\n",
            "STOP: TOTAL NO. of ITERATIONS REACHED LIMIT.\n",
            "\n",
            "Increase the number of iterations (max_iter) or scale the data as shown in:\n",
            "    https://scikit-learn.org/stable/modules/preprocessing.html\n",
            "Please also refer to the documentation for alternative solver options:\n",
            "    https://scikit-learn.org/stable/modules/linear_model.html#logistic-regression\n",
            "  extra_warning_msg=_LOGISTIC_SOLVER_CONVERGENCE_MSG,\n"
          ]
        }
      ],
      "source": [
        "# train\n",
        "logreg = linear_model.LogisticRegression(C=1e5,solver = 'lbfgs', multi_class = 'multinomial', max_iter = 50)\n",
        "logreg.fit(X_train, Y_train)\n",
        "\n",
        "# test\n",
        "y_pred = logreg.predict(X_test)\n",
        "print('Accuracy:',100*accuracy_score(Y_test, y_pred.tolist()))"
      ]
    },
    {
      "cell_type": "code",
      "source": [],
      "metadata": {
        "id": "9KuC6Y2shnPP"
      },
      "execution_count": null,
      "outputs": []
    }
  ]
}