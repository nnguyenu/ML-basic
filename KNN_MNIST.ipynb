{
  "nbformat": 4,
  "nbformat_minor": 0,
  "metadata": {
    "colab": {
      "provenance": [],
      "authorship_tag": "ABX9TyMV+KUqxR2fPj/XMndOwKq/",
      "include_colab_link": true
    },
    "kernelspec": {
      "name": "python3",
      "display_name": "Python 3"
    },
    "language_info": {
      "name": "python"
    }
  },
  "cells": [
    {
      "cell_type": "markdown",
      "metadata": {
        "id": "view-in-github",
        "colab_type": "text"
      },
      "source": [
        "<a href=\"https://colab.research.google.com/github/nnguyenu/ML-basic/blob/main/KNN_MNIST.ipynb\" target=\"_parent\"><img src=\"https://colab.research.google.com/assets/colab-badge.svg\" alt=\"Open In Colab\"/></a>"
      ]
    },
    {
      "cell_type": "code",
      "source": [
        "# %reset\n",
        "import numpy as np \n",
        "import matplotlib.pyplot as plt\n",
        "from sklearn import neighbors\n",
        "from sklearn.metrics import accuracy_score\n",
        "import time\n",
        "from keras.datasets import mnist"
      ],
      "metadata": {
        "id": "TTlxZEbDYIUx"
      },
      "execution_count": 19,
      "outputs": []
    },
    {
      "cell_type": "code",
      "source": [
        "(X_train, Y_train), (X_test, Y_test) = mnist.load_data()\n",
        "\n",
        "nsamples, nx, ny = X_train.shape\n",
        "X_train = X_train.reshape(nsamples,(nx*ny))\n",
        "\n",
        "nsamples, nx, ny = X_test.shape\n",
        "X_test = X_test.reshape(nsamples,(nx*ny))"
      ],
      "metadata": {
        "id": "iQJVhux6YURS"
      },
      "execution_count": 20,
      "outputs": []
    },
    {
      "cell_type": "code",
      "execution_count": 21,
      "metadata": {
        "colab": {
          "base_uri": "https://localhost:8080/"
        },
        "id": "OyYdZV9bNTBe",
        "outputId": "52975e56-1fc9-4176-9bd7-8822c3a0c8c5"
      },
      "outputs": [
        {
          "output_type": "stream",
          "name": "stdout",
          "text": [
            "Accuracy of 1NN for MNIST: 96.91 %\n",
            "Running time: 33.2 (s)\n"
          ]
        }
      ],
      "source": [
        "start_time = time.time()\n",
        "clf = neighbors.KNeighborsClassifier(n_neighbors = 1, p = 2)\n",
        "clf.fit(X_train, Y_train)\n",
        "y_pred = clf.predict(X_test)\n",
        "end_time = time.time()\n",
        "print(\"Accuracy of 1NN for MNIST:\",(100*accuracy_score(Y_test, y_pred)),'%')\n",
        "print(\"Running time:\",round((end_time - start_time),2),'(s)')"
      ]
    },
    {
      "cell_type": "code",
      "source": [],
      "metadata": {
        "id": "wNZxKXcvN3SE"
      },
      "execution_count": null,
      "outputs": []
    }
  ]
}