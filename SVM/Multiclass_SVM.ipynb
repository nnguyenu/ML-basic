{
 "cells": [
  {
   "cell_type": "code",
   "execution_count": 9,
   "metadata": {},
   "outputs": [
    {
     "name": "stdout",
     "output_type": "stream",
     "text": [
      "loss without regularization: 3.9680567822977473\n",
      "loss with regularization: 4.468083431777305\n"
     ]
    }
   ],
   "source": [
    "import numpy as np\n",
    "from random import shuffle\n",
    "\n",
    "# naive way to calculate loss and grad\n",
    "def svm_loss_naive(W, X, y, reg):\n",
    "    d, C = W.shape \n",
    "    _, N = X.shape \n",
    "    \n",
    "    ## naive loss and grad\n",
    "    loss = 0 \n",
    "    dW = np.zeros_like(W)\n",
    "    for n in range(N):\n",
    "        xn = X[:, n]\n",
    "        score = W.T.dot(xn)\n",
    "        for j in range(C):\n",
    "            if j == y[n]:\n",
    "                continue \n",
    "            margin = 1 - score[y[n]] + score[j]\n",
    "            if margin > 0:\n",
    "                loss += margin \n",
    "                dW[:, j] += xn \n",
    "                dW[:, y[n]] -= xn\n",
    "    \n",
    "    loss /= N \n",
    "    loss += 0.5 * reg * np.sum(W * W) # regularization\n",
    "    \n",
    "    dW /= N \n",
    "    dW += reg * W # gradient off regularization \n",
    "    return loss, dW\n",
    "    \n",
    "# random, small data\n",
    "N, C, d = 10, 3, 5\n",
    "reg = .1 \n",
    "W = np.random.randn(d, C)\n",
    "X = np.random.randn(d, N)\n",
    "y = np.random.randint(C, size = N)\n",
    "\n",
    "# sanity check\n",
    "print('loss without regularization:', svm_loss_naive(W, X, y, 0)[0])\n",
    "print('loss with regularization:', svm_loss_naive(W, X, y, .1)[0])"
   ]
  }
 ],
 "metadata": {
  "kernelspec": {
   "display_name": "Python 3.11.0 64-bit",
   "language": "python",
   "name": "python3"
  },
  "language_info": {
   "codemirror_mode": {
    "name": "ipython",
    "version": 3
   },
   "file_extension": ".py",
   "mimetype": "text/x-python",
   "name": "python",
   "nbconvert_exporter": "python",
   "pygments_lexer": "ipython3",
   "version": "3.11.0"
  },
  "orig_nbformat": 4,
  "vscode": {
   "interpreter": {
    "hash": "aee8b7b246df8f9039afb4144a1f6fd8d2ca17a180786b69acc140d282b71a49"
   }
  }
 },
 "nbformat": 4,
 "nbformat_minor": 2
}
