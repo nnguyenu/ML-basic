{
  "nbformat": 4,
  "nbformat_minor": 0,
  "metadata": {
    "colab": {
      "provenance": [],
      "authorship_tag": "ABX9TyPzvyAidzciulEkGtSJz3EV",
      "include_colab_link": true
    },
    "kernelspec": {
      "name": "python3",
      "display_name": "Python 3"
    },
    "language_info": {
      "name": "python"
    }
  },
  "cells": [
    {
      "cell_type": "markdown",
      "metadata": {
        "id": "view-in-github",
        "colab_type": "text"
      },
      "source": [
        "<a href=\"https://colab.research.google.com/github/nnguyenu/ML-basic/blob/main/Logistic_Regression_MNIST.ipynb\" target=\"_parent\"><img src=\"https://colab.research.google.com/assets/colab-badge.svg\" alt=\"Open In Colab\"/></a>"
      ]
    },
    {
      "cell_type": "code",
      "execution_count": 5,
      "metadata": {
        "id": "l9Xc5k0uHoR4"
      },
      "outputs": [],
      "source": [
        "# %reset\n",
        "import numpy as np \n",
        "import matplotlib.pyplot as plt\n",
        "from sklearn import linear_model\n",
        "from sklearn.metrics import accuracy_score\n",
        "from keras.datasets import mnist"
      ]
    },
    {
      "cell_type": "code",
      "source": [
        "(X_train, Y_train), (X_test, Y_test) = mnist.load_data()\n",
        "\n",
        "# display data as an image\n",
        "plt.imshow(X_train[942])\n",
        "plt.gray()\n",
        "plt.show()\n",
        "\n",
        "nsamples, nx, ny = X_train.shape\n",
        "X_train = X_train.reshape(nsamples,nx*ny)\n",
        "\n",
        "nsamples, nx, ny = X_test.shape\n",
        "X_test = X_test.reshape(nsamples,nx*ny)\n",
        "\n",
        "print(X_train.shape,Y_train.shape)"
      ],
      "metadata": {
        "colab": {
          "base_uri": "https://localhost:8080/",
          "height": 283
        },
        "id": "XJo4muIpKOb4",
        "outputId": "67f7b6c4-3f88-4e62-c5e5-6bfe962b6170"
      },
      "execution_count": 6,
      "outputs": [
        {
          "output_type": "display_data",
          "data": {
            "text/plain": [
              "<Figure size 432x288 with 1 Axes>"
            ],
            "image/png": "[encoded data removed]"
          },
          "metadata": {
            "needs_background": "light"
          }
        },
        {
          "output_type": "stream",
          "name": "stdout",
          "text": [
            "(60000, 784) (60000,)\n"
          ]
        }
      ]
    },
    {
      "cell_type": "code",
      "source": [
        "cls = [[0], [1]]\n",
        "\n",
        "def extract_data(X, y, classes):\n",
        "    \"\"\"\n",
        "    X: numpy array, matrix of size (N, d), d is data dim\n",
        "    y: numpy array, size (N, )\n",
        "    cls: two lists of labels. For example: \n",
        "        cls = [[1, 4, 7], [5, 6, 8]]\n",
        "    return:\n",
        "        X: extracted data\n",
        "        y: extracted label \n",
        "        (0 and 1, corresponding to two lists in cls)\n",
        "    \"\"\"\n",
        "    y_res_id = np.array([])\n",
        "    for i in cls[0]:\n",
        "      for j in range(y.shape[0]):\n",
        "        if y[j] == i:\n",
        "          # Append values to the end of an array.\n",
        "          y_res_id = np.append(y_res_id, j)\n",
        "    n0 = len(y_res_id)\n",
        "\n",
        "    for i in cls[1]:\n",
        "      for j in range(y.shape[0]):\n",
        "        if y[j] == i:\n",
        "          y_res_id = np.append(y_res_id, j)\n",
        "    n1 = len(y_res_id) - n0\n",
        "    \n",
        "    # return copy of the array, cast to a specified type ('int' in this case)\n",
        "    y_res_id = y_res_id.astype(int)\n",
        "    \n",
        "    # take all X[i] that in y_res_id & divide all number by 255 to make it in range [0,1]\n",
        "    X_res = X[y_res_id, :]/255.0\n",
        "    # assign label to data in X_res\n",
        "    y_res = np.asarray([0]*n0 + [1]*n1)\n",
        "    return (X_res, y_res)\n",
        "\n",
        "# extract data for training \n",
        "(newX_train, newy_train) = extract_data(X_train, Y_train, cls)\n",
        "\n",
        "# extract data for test \n",
        "(newX_test, newy_test) = extract_data(X_test, Y_test, cls)"
      ],
      "metadata": {
        "id": "FYILkrqhMkY6"
      },
      "execution_count": 7,
      "outputs": []
    },
    {
      "cell_type": "code",
      "source": [
        "# train the logistic regression model \n",
        "logreg = linear_model.LogisticRegression(C=1e5) # just a big number \n",
        "logreg.fit(newX_train, newy_train)\n",
        "\n",
        "# predict \n",
        "y_pred = logreg.predict(newX_test)\n",
        "print(\"Accuracy:\",(100*accuracy_score(newy_test, y_pred)),'%')"
      ],
      "metadata": {
        "colab": {
          "base_uri": "https://localhost:8080/"
        },
        "id": "7eP4FNf6VCkT",
        "outputId": "1af2076b-9c85-4eb7-913d-80836354b99e"
      },
      "execution_count": 8,
      "outputs": [
        {
          "output_type": "stream",
          "name": "stdout",
          "text": [
            "Accuracy: 99.95271867612293 %\n"
          ]
        }
      ]
    },
    {
      "cell_type": "code",
      "source": [
        "# display misclassified image(s)\n",
        "misclass = []\n",
        "for i in range(len(y_pred)):\n",
        "  if y_pred[i] != newy_test[i]:\n",
        "    print('wrong at image',i,':','predict:',y_pred[i],'result:',newy_test[i])\n",
        "    misclass.append(i)\n",
        "Xmis = newX_test[misclass, :]\n",
        "Xmis = Xmis.reshape(len(misclass),nx,ny)\n",
        "for i in range(Xmis.shape[0]):\n",
        "  plt.imshow(Xmis[i])\n",
        "plt.show()"
      ],
      "metadata": {
        "colab": {
          "base_uri": "https://localhost:8080/",
          "height": 283
        },
        "id": "Ch1jWRbHaLXW",
        "outputId": "137f9c42-b88d-425d-a92a-2434002c2ffd"
      },
      "execution_count": 9,
      "outputs": [
        {
          "output_type": "stream",
          "name": "stdout",
          "text": [
            "wrong at image 942 : predict: 1 result: 0\n"
          ]
        },
        {
          "output_type": "display_data",
          "data": {
            "text/plain": [
              "<Figure size 432x288 with 1 Axes>"
            ],
            "image/png": "[encoded data removed]"
          },
          "metadata": {
            "needs_background": "light"
          }
        }
      ]
    },
    {
      "cell_type": "code",
      "source": [
        "# predict every number with one-vs-rest\n",
        "# runtime is about 20 minutes so pls don't run this\n",
        "logreg.fit(X_train, Y_train)\n",
        "y_pred = logreg.predict(X_test)\n",
        "print(\"Accuracy: %.2f %%\" %(100*accuracy_score(Y_test, y_pred.tolist())))"
      ],
      "metadata": {
        "id": "XO_8ulQpfWFM"
      },
      "execution_count": null,
      "outputs": []
    },
    {
      "cell_type": "code",
      "source": [],
      "metadata": {
        "id": "SsCWu2REwKp7"
      },
      "execution_count": null,
      "outputs": []
    }
  ]
}