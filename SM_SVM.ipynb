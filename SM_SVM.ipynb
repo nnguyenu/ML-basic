{
  "nbformat": 4,
  "nbformat_minor": 0,
  "metadata": {
    "colab": {
      "provenance": [],
      "authorship_tag": "ABX9TyMlfh4buxwaoM2pqfe+4/xX",
      "include_colab_link": true
    },
    "kernelspec": {
      "name": "python3",
      "display_name": "Python 3"
    },
    "language_info": {
      "name": "python"
    }
  },
  "cells": [
    {
      "cell_type": "markdown",
      "metadata": {
        "id": "view-in-github",
        "colab_type": "text"
      },
      "source": [
        "<a href=\"https://colab.research.google.com/github/nnguyenu/ML-basic/blob/main/SM_SVM.ipynb\" target=\"_parent\"><img src=\"https://colab.research.google.com/assets/colab-badge.svg\" alt=\"Open In Colab\"/></a>"
      ]
    },
    {
      "cell_type": "code",
      "execution_count": 64,
      "metadata": {
        "colab": {
          "base_uri": "https://localhost:8080/",
          "height": 265
        },
        "id": "J9aTMHWptZKB",
        "outputId": "9d6b4079-3b4c-41e9-f9aa-7a714c63b265"
      },
      "outputs": [
        {
          "output_type": "display_data",
          "data": {
            "text/plain": [
              "<Figure size 432x288 with 1 Axes>"
            ],
            "image/png": "[encoded data removed]"
          },
          "metadata": {
            "needs_background": "light"
          }
        }
      ],
      "source": [
        "# generate data\n",
        "# list of points \n",
        "import numpy as np \n",
        "import matplotlib.pyplot as plt\n",
        "from scipy.spatial.distance import cdist\n",
        "np.random.seed(22)\n",
        "from matplotlib.backends.backend_pdf import PdfPages\n",
        "\n",
        "means = [[2, 2], [4, 2]]\n",
        "cov = [[.9, 0], [0, .9]]\n",
        "N = 20\n",
        "X0 = np.random.multivariate_normal(means[0], cov, N)\n",
        "X1 = np.random.multivariate_normal(means[1], cov, N)\n",
        "\n",
        "plt.plot(X0[:,0],X0[:,1],'ro')\n",
        "plt.plot(X1[:,0],X1[:,1],'bo')\n",
        "#X1[-1, :] = [2.7, 2]\n",
        "X = np.concatenate((X0, X1), axis = 0)\n",
        "y = np.concatenate((np.ones((N, 1)), -1*np.ones((N, 1))), axis = 0).ravel()   # ravel() to change shape from (40,1) to (40,)"
      ]
    },
    {
      "cell_type": "code",
      "source": [
        "from sklearn.svm import SVC\n",
        "C = 100\n",
        "clf = SVC(kernel = 'linear', C = C)\n",
        "clf.fit(X, y) \n",
        "\n",
        "w_sklearn = clf.coef_.reshape(-1, 1)\n",
        "b_sklearn = clf.intercept_[0]\n",
        "print(w_sklearn.T, b_sklearn)\n",
        "\n",
        "plt.plot(X0[:,0],X0[:,1],'ro')\n",
        "plt.plot(X1[:,0],X1[:,1],'bo')\n",
        "\n",
        "# plot dividing line wx + b = 0\n",
        "xx = np.arange(0,6,0.1)\n",
        "yy = (-b_sklearn - w_sklearn[0,0]*xx) / w_sklearn[1,0]\n",
        "plt.plot(xx,yy,linewidth = 3)\n",
        "\n",
        "# plot margin line wx + b = 1\n",
        "xx = np.arange(0,6,0.1)\n",
        "yy = (1-b_sklearn - w_sklearn[0,0]*xx) / w_sklearn[1,0]\n",
        "plt.plot(xx,yy)\n",
        "\n",
        "# plot margin line wx + b = -1\n",
        "xx = np.arange(0,6,0.1)\n",
        "yy = (-1-b_sklearn - w_sklearn[0,0]*xx) / w_sklearn[1,0]\n",
        "plt.plot(xx,yy)\n"
      ],
      "metadata": {
        "colab": {
          "base_uri": "https://localhost:8080/",
          "height": 301
        },
        "id": "tbz_kNejwQNY",
        "outputId": "f35a05c8-c782-43d0-bd6f-51c36bd6b8f4"
      },
      "execution_count": 97,
      "outputs": [
        {
          "output_type": "stream",
          "name": "stdout",
          "text": [
            "[[-1.09073673 -1.09449305]] 5.371245075196431\n"
          ]
        },
        {
          "output_type": "execute_result",
          "data": {
            "text/plain": [
              "[<matplotlib.lines.Line2D at 0x7f2fdb51edc0>]"
            ]
          },
          "metadata": {},
          "execution_count": 97
        },
        {
          "output_type": "display_data",
          "data": {
            "text/plain": [
              "<Figure size 432x288 with 1 Axes>"
            ],
            "image/png": "[encoded data removed]"
          },
          "metadata": {
            "needs_background": "light"
          }
        }
      ]
    },
    {
      "cell_type": "code",
      "source": [
        "from cvxopt import matrix, solvers\n",
        "# build K\n",
        "V = np.concatenate((X0.T, -X1.T), axis = 1)\n",
        "K = matrix(V.T.dot(V))\n",
        "\n",
        "p = matrix(-np.ones((2*N, 1)))\n",
        "# build A, b, G, h \n",
        "G = matrix(np.vstack((-np.eye(2*N), np.eye(2*N))))\n",
        "\n",
        "h = matrix(np.vstack((np.zeros((2*N, 1)), C*np.ones((2*N, 1)))))\n",
        "A = matrix(y.reshape((-1, 2*N))) \n",
        "b = matrix(np.zeros((1, 1))) \n",
        "solvers.options['show_progress'] = False\n",
        "sol = solvers.qp(K, p, G, h, A, b)\n",
        "\n",
        "l = np.array(sol['x'])\n",
        "print('lambda = \\n', l.T)"
      ],
      "metadata": {
        "colab": {
          "base_uri": "https://localhost:8080/"
        },
        "id": "8pT4U9bc2XzY",
        "outputId": "596d9f1b-b707-45dd-9918-cfdb5ea54896"
      },
      "execution_count": 76,
      "outputs": [
        {
          "output_type": "stream",
          "name": "stdout",
          "text": [
            "lambda = \n",
            " [[2.78310611e-06 9.99999945e+01 2.86745352e-06 1.91442568e-05\n",
            "  9.99999117e+01 1.58572755e-05 9.99999965e+01 6.23303276e+01\n",
            "  9.99999974e+01 9.99997999e+01 9.99999836e+01 1.07966831e-05\n",
            "  9.99999972e+01 9.99999947e+01 3.85694199e-06 6.01323637e+01\n",
            "  1.05556008e-05 4.01942645e-06 2.05968959e-05 3.65768350e-06\n",
            "  3.25327310e-06 3.56120600e-06 9.99999914e+01 9.99999962e+01\n",
            "  9.99999967e+01 2.81113369e-06 2.24625177e+01 7.78437813e-06\n",
            "  9.99999366e+01 9.99999943e+01 9.99999933e+01 2.59351981e-06\n",
            "  9.99999972e+01 1.09546866e-05 2.78657571e-06 4.15381277e-06\n",
            "  9.99999965e+01 3.23808235e-06 3.40790792e-06 9.99999967e+01]]\n"
          ]
        }
      ]
    },
    {
      "cell_type": "code",
      "source": [
        "# support set \n",
        "\n",
        "# np.asarray(l > 1e-5): return boolean array where a[id] = True if l[id] > 1e-5 and False otherwise\n",
        "# nonzero(): return the indices of the elements that are non-zero (see np.nonzero for more details)\n",
        "\n",
        "S = np.where(l > 1e-5)[0]   # same as 'np.asarray(l>1e-5).nonzero()[0]'\n",
        "S2 = np.where(l < .999*C)[0]  # same as 'np.asarray(l < .999*C).nonzero()[0]'\n",
        "M = np.intersect1d(S,S2) # intersection of two lists\n",
        "\n",
        "XT = X.T # we need each column to be one data point in this alg\n",
        "VS = V[:, S]\n",
        "lS = l[S]\n",
        "yM = y[M]\n",
        "XM = XT[:, M]\n",
        "\n",
        "w_dual = VS.dot(lS).reshape(-1, 1)\n",
        "b_dual = np.mean(yM.T - w_dual.T.dot(XM))\n",
        "print(w_dual.T, b_dual) \n",
        "\n",
        "plt.plot(X0[:,0],X0[:,1],'ro')\n",
        "plt.plot(X1[:,0],X1[:,1],'bo')\n",
        "\n",
        "# plot dividing line wx + b = 0\n",
        "xx = np.arange(0,6,0.1)\n",
        "yy = (-b_dual - w_dual[0,0]*xx) / w_dual[1,0]\n",
        "plt.plot(xx,yy,linewidth = 3)"
      ],
      "metadata": {
        "colab": {
          "base_uri": "https://localhost:8080/",
          "height": 302
        },
        "id": "-zlrE9Cc2duQ",
        "outputId": "96734212-65c9-41ec-e178-73029030faf8"
      },
      "execution_count": 98,
      "outputs": [
        {
          "output_type": "stream",
          "name": "stdout",
          "text": [
            "[[-1.09103902 -1.0946922 ]] 5.27649925554153\n"
          ]
        },
        {
          "output_type": "execute_result",
          "data": {
            "text/plain": [
              "[<matplotlib.lines.Line2D at 0x7f2fdb47ee50>]"
            ]
          },
          "metadata": {},
          "execution_count": 98
        },
        {
          "output_type": "display_data",
          "data": {
            "text/plain": [
              "<Figure size 432x288 with 1 Axes>"
            ],
            "image/png": "[encoded data removed]"
          },
          "metadata": {
            "needs_background": "light"
          }
        }
      ]
    },
    {
      "cell_type": "code",
      "source": [
        "X0_bar = np.vstack((X0.T, np.ones((1, N)))) # extended data\n",
        "X1_bar = np.vstack((X1.T, np.ones((1, N)))) # extended data \n",
        "\n",
        "Z = np.hstack((X0_bar, - X1_bar)) # as in (22)\n",
        "lam = 1./C\n",
        "\n",
        "def cost(w):\n",
        "    u = w.T.dot(Z) # as in (23)\n",
        "    return (np.sum(np.maximum(0, 1 - u)) + .5*lam*np.sum(w*w)) - .5*lam*w[-1]*w[-1] # no bias \n",
        "\n",
        "def grad(w):\n",
        "    u = w.T.dot(Z) # as in (23)\n",
        "    H = np.where(u < 1)[1]\n",
        "    ZS = Z[:, H]\n",
        "    g = (-np.sum(ZS, axis = 1, keepdims = True) + lam*w)\n",
        "    g[-1] -= lam*w[-1] # no weight decay on bias\n",
        "    return g\n",
        "\n",
        "eps = 1e-6\n",
        "def num_grad(w):\n",
        "    g = np.zeros_like(w)\n",
        "    for i in range(len(w)):\n",
        "        wp = w.copy()\n",
        "        wm = w.copy()\n",
        "        wp[i] += eps \n",
        "        wm[i] -= eps \n",
        "        g[i] = (cost(wp) - cost(wm))/(2*eps)\n",
        "    return g \n",
        "\n",
        "w0 = np.random.randn(X0_bar.shape[0], 1) \n",
        "g1 = grad(w0)\n",
        "g2 = num_grad(w0)\n",
        "diff = np.linalg.norm(g1 - g2)\n",
        "print('Gradient different: %f' %diff)"
      ],
      "metadata": {
        "colab": {
          "base_uri": "https://localhost:8080/"
        },
        "id": "9KKIJc5t-DBw",
        "outputId": "53111091-9fba-46cc-f55a-276b1e6172db"
      },
      "execution_count": 102,
      "outputs": [
        {
          "output_type": "stream",
          "name": "stdout",
          "text": [
            "Gradient different: 0.000000\n"
          ]
        }
      ]
    },
    {
      "cell_type": "code",
      "source": [
        "def grad_descent(w0, eta):\n",
        "    w = w0\n",
        "    it = 0 \n",
        "    while it < 100000:\n",
        "        it = it + 1\n",
        "        g = grad(w)\n",
        "        w -= eta*g\n",
        "        if (it % 10000) == 1:\n",
        "            print('iter %d' %it + ' cost: %f' %cost(w))\n",
        "        if np.linalg.norm(g) < 1e-5:\n",
        "            break \n",
        "    return w \n",
        "w0 = np.random.randn(X0_bar.shape[0], 1) \n",
        "w = grad_descent(w0, 0.001)\n",
        "w_hinge = w[:-1].reshape(-1, 1)\n",
        "b_hinge = w[-1]\n",
        "print(w_hinge.T, b_hinge)\n",
        "\n",
        "plt.plot(X0[:,0],X0[:,1],'ro')\n",
        "plt.plot(X1[:,0],X1[:,1],'bo')\n",
        "\n",
        "# plot dividing line wx + b = 0\n",
        "xx = np.arange(0,6,0.1)\n",
        "yy = (-b_hinge - w_hinge[0,0]*xx) / w_hinge[1,0]\n",
        "plt.plot(xx,yy,linewidth = 3)"
      ],
      "metadata": {
        "colab": {
          "base_uri": "https://localhost:8080/",
          "height": 479
        },
        "id": "lQ-H7wlB-gav",
        "outputId": "065d6905-4bf8-4452-a4fb-e0185bfa12cd"
      },
      "execution_count": 105,
      "outputs": [
        {
          "output_type": "stream",
          "name": "stdout",
          "text": [
            "iter 1 cost: 91.994252\n",
            "iter 10001 cost: 18.446965\n",
            "iter 20001 cost: 18.458197\n",
            "iter 30001 cost: 18.441320\n",
            "iter 40001 cost: 18.447195\n",
            "iter 50001 cost: 18.445234\n",
            "iter 60001 cost: 18.439742\n",
            "iter 70001 cost: 18.443055\n",
            "iter 80001 cost: 18.443226\n",
            "iter 90001 cost: 18.446123\n",
            "[[-1.09205332 -1.09674562]] [5.38146076]\n"
          ]
        },
        {
          "output_type": "execute_result",
          "data": {
            "text/plain": [
              "[<matplotlib.lines.Line2D at 0x7f2fe1903250>]"
            ]
          },
          "metadata": {},
          "execution_count": 105
        },
        {
          "output_type": "display_data",
          "data": {
            "text/plain": [
              "<Figure size 432x288 with 1 Axes>"
            ],
            "image/png": "[encoded data removed]"
          },
          "metadata": {
            "needs_background": "light"
          }
        }
      ]
    }
  ]
}