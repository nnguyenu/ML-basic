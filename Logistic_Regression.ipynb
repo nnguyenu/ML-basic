{
  "nbformat": 4,
  "nbformat_minor": 0,
  "metadata": {
    "colab": {
      "provenance": [],
      "authorship_tag": "ABX9TyOhyefTJ/9usdmK9q6xlAgI",
      "include_colab_link": true
    },
    "kernelspec": {
      "name": "python3",
      "display_name": "Python 3"
    },
    "language_info": {
      "name": "python"
    }
  },
  "cells": [
    {
      "cell_type": "markdown",
      "metadata": {
        "id": "view-in-github",
        "colab_type": "text"
      },
      "source": [
        "<a href=\"https://colab.research.google.com/github/nnguyenu/ML-basic/blob/main/Logistic_Regression.ipynb\" target=\"_parent\"><img src=\"https://colab.research.google.com/assets/colab-badge.svg\" alt=\"Open In Colab\"/></a>"
      ]
    },
    {
      "cell_type": "code",
      "execution_count": 7,
      "metadata": {
        "id": "ZnYJN_n72tG_",
        "colab": {
          "base_uri": "https://localhost:8080/"
        },
        "outputId": "607db6f9-1a4d-46f5-9e84-1e62fc9fb5ce"
      },
      "outputs": [
        {
          "output_type": "execute_result",
          "data": {
            "text/plain": [
              "array([[1.  , 1.  , 1.  , 1.  , 1.  , 1.  , 1.  , 1.  , 1.  , 1.  , 1.  ,\n",
              "        1.  , 1.  , 1.  , 1.  , 1.  , 1.  , 1.  , 1.  , 1.  ],\n",
              "       [0.5 , 0.75, 1.  , 1.25, 1.5 , 1.75, 1.75, 2.  , 2.25, 2.5 , 2.75,\n",
              "        3.  , 3.25, 3.5 , 4.  , 4.25, 4.5 , 4.75, 5.  , 5.5 ]])"
            ]
          },
          "metadata": {},
          "execution_count": 7
        }
      ],
      "source": [
        "# To support both python 2 and python 3\n",
        "from __future__ import division, print_function, unicode_literals\n",
        "import numpy as np \n",
        "import matplotlib.pyplot as plt\n",
        "np.random.seed(2)\n",
        "\n",
        "X = np.array([[0.50, 0.75, 1.00, 1.25, 1.50, 1.75, 1.75, 2.00, 2.25, 2.50, \n",
        "              2.75, 3.00, 3.25, 3.50, 4.00, 4.25, 4.50, 4.75, 5.00, 5.50]])\n",
        "y = np.array([0, 0, 0, 0, 0, 0, 1, 0, 1, 0, 1, 0, 1, 0, 1, 1, 1, 1, 1, 1])\n",
        "\n",
        "# extend data \n",
        "X = np.concatenate((np.ones(X.shape), X), axis = 0)\n",
        "X"
      ]
    },
    {
      "cell_type": "code",
      "source": [
        "def sigmoid(s):\n",
        "    return 1/(1 + np.exp(-s))\n",
        "\n",
        "def logistic_sigmoid_regression(X, y, w_init, eta = 0.05, tol = 1e-3, max_count = 10000):\n",
        "    w = [w_init]    \n",
        "    N = X.shape[1]\n",
        "    d = X.shape[0]\n",
        "    count = 0\n",
        "    check_w_after = 20\n",
        "    while count < max_count:\n",
        "        # mix data \n",
        "        mix_id = np.random.permutation(N)\n",
        "        for i in mix_id:\n",
        "            xi = X[:, i].reshape(d, 1)\n",
        "            yi = y[i]\n",
        "            zi = sigmoid(np.dot(w[-1].T, xi))\n",
        "            w_new = w[-1] + eta*(yi - zi)*xi\n",
        "            count += 1\n",
        "            # stopping criteria\n",
        "            if count % check_w_after == 0:                \n",
        "                if np.linalg.norm(w_new - w[-check_w_after]) < tol:\n",
        "                    return (w,count)\n",
        "            w.append(w_new)\n",
        "    return (w,count)"
      ],
      "metadata": {
        "id": "P2h-zUpGsfIV"
      },
      "execution_count": 42,
      "outputs": []
    },
    {
      "cell_type": "code",
      "source": [
        "w_init = np.random.randn(X.shape[0], 1)\n",
        "(w,count) = logistic_sigmoid_regression(X, y, w_init)\n",
        "print(w[-1],count)\n",
        "print(sigmoid(np.dot(w[-1].T, X)))"
      ],
      "metadata": {
        "colab": {
          "base_uri": "https://localhost:8080/"
        },
        "id": "q8WjxDzCtybD",
        "outputId": "f68a6632-6059-43cc-d4fd-21052a94c994"
      },
      "execution_count": 50,
      "outputs": [
        {
          "output_type": "stream",
          "name": "stdout",
          "text": [
            "[[-4.09784692]\n",
            " [ 1.45399115]] 5200\n",
            "[[-4.36897283]\n",
            " [ 1.21743374]] 10000\n",
            "[[0.03321896 0.04709477 0.06636872 0.09276282 0.1282121  0.17460116\n",
            "  0.17460116 0.23328315 0.30441383 0.38630543 0.47517761 0.56565041\n",
            "  0.65195059 0.7293095  0.84788622 0.88910342 0.92020336 0.94313938\n",
            "  0.95977109 0.98014227]]\n"
          ]
        }
      ]
    },
    {
      "cell_type": "code",
      "source": [
        "# get X[0] val of index where y[index] = 0\n",
        "# we can write: X0 = [1, X[np.where(y==0)]][0]\n",
        "X0 = []\n",
        "for i in range(X.shape[1]):\n",
        "  if y[i] == 0:\n",
        "    X0.append(X[1][i])\n",
        "X0 = np.array(X0)\n",
        "\n",
        "y0 = y[np.where(y == 0)]\n",
        "\n",
        "X1 = []\n",
        "for i in range(X.shape[1]):\n",
        "  if y[i] == 1:\n",
        "    X1.append(X[1][i])\n",
        "X1 = np.array(X1)\n",
        "\n",
        "y1 = y[np.where(y == 1)]\n",
        "\n",
        "plt.plot(X0, y0, 'ro', markersize = 8)\n",
        "plt.plot(X1, y1, 'bo', markersize = 8)\n",
        "\n",
        "xx = np.linspace(0, 6, 100)\n",
        "w0 = w[-1][0][0]\n",
        "w1 = w[-1][1][0]\n",
        "# threshold * w1 + w0 = 0 -> e^s = e^0 = 1 -> sigmoid(s) = 0.5\n",
        "threshold = -w0/w1\n",
        "yy = sigmoid(w0 + w1*xx)\n",
        "\n",
        "plt.plot(xx, yy, 'g-', linewidth = 2)\n",
        "plt.plot(threshold, .5, 'y^', markersize = 8)\n",
        "plt.xlabel('studying hours')\n",
        "plt.ylabel('predicted probability of pass')\n",
        "plt.axis([-1,7,-0.1,1.1])\n",
        "plt.show()"
      ],
      "metadata": {
        "colab": {
          "base_uri": "https://localhost:8080/",
          "height": 297
        },
        "id": "vxIv7Ngruezj",
        "outputId": "9647ef15-24ed-4348-bdbf-1275086ed35d"
      },
      "execution_count": 99,
      "outputs": [
        {
          "output_type": "stream",
          "name": "stdout",
          "text": [
            "(10,)\n"
          ]
        },
        {
          "output_type": "display_data",
          "data": {
            "text/plain": [
              "<Figure size 432x288 with 1 Axes>"
            ],
            "image/png": "[encoded data removed]"
          },
          "metadata": {
            "needs_background": "light"
          }
        }
      ]
    },
    {
      "cell_type": "code",
      "source": [],
      "metadata": {
        "id": "hb1vRbqiw93b"
      },
      "execution_count": null,
      "outputs": []
    }
  ]
}