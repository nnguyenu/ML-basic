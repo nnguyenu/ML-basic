{
  "nbformat": 4,
  "nbformat_minor": 0,
  "metadata": {
    "colab": {
      "provenance": [],
      "authorship_tag": "ABX9TyPzrbRN9IBHMP+vA0CyHO4E",
      "include_colab_link": true
    },
    "kernelspec": {
      "name": "python3",
      "display_name": "Python 3"
    },
    "language_info": {
      "name": "python"
    }
  },
  "cells": [
    {
      "cell_type": "markdown",
      "metadata": {
        "id": "view-in-github",
        "colab_type": "text"
      },
      "source": [
        "<a href=\"https://colab.research.google.com/github/nnguyenu/ML-basic/blob/main/Numpy_tutorial.ipynb\" target=\"_parent\"><img src=\"https://colab.research.google.com/assets/colab-badge.svg\" alt=\"Open In Colab\"/></a>"
      ]
    },
    {
      "cell_type": "markdown",
      "source": [
        "The Basics\n",
        "NumPy’s main object is the homogeneous multidimensional array. It is a table of elements (usually numbers), all of the same type, indexed by a tuple of non-negative integers. In NumPy dimensions are called axes.\n",
        "\n",
        "For example, the array for the coordinates of a point in 3D space, [1, 2, 1], has one axis. That axis has 3 elements in it, so we say it has a length of 3. In the example pictured below, the array has 2 axes. The first axis has a length of 2, the second axis has a length of 3."
      ],
      "metadata": {
        "id": "w6unhsB2LZT2"
      }
    },
    {
      "cell_type": "code",
      "source": [
        "import numpy as np\n",
        "# initialize array with 2 axes\n",
        "a = np.array([[1,2,3],[4,5,6.5]])\n",
        "# init b with specified type  \n",
        "print(a.size)   # another way to print a\n",
        "print(a.dtype)     # type of elements in a\n",
        "c = np.array([[1, 2], [3, 4]], dtype=complex)\n",
        "print(c)"
      ],
      "metadata": {
        "colab": {
          "base_uri": "https://localhost:8080/"
        },
        "id": "bQY-Qi04LqGH",
        "outputId": "d70fbdee-2d97-4b5c-9c98-3f5f85ec132d"
      },
      "execution_count": 2,
      "outputs": [
        {
          "output_type": "stream",
          "name": "stdout",
          "text": [
            "6\n",
            "float64\n",
            "[[1.+0.j 2.+0.j]\n",
            " [3.+0.j 4.+0.j]]\n"
          ]
        }
      ]
    },
    {
      "cell_type": "code",
      "source": [
        "# create a array full of zeros with size 2x4x5\n",
        "v = np.zeros((2,4,5))\n",
        "val = 0\n",
        "for i in range(2):\n",
        "  for j in range(4):\n",
        "    for k in range(5):\n",
        "      v[i][j][k] = val\n",
        "      val = val + 1\n",
        "v"
      ],
      "metadata": {
        "colab": {
          "base_uri": "https://localhost:8080/"
        },
        "id": "9hroOBIh8DE_",
        "outputId": "fa24f283-f9a7-4cf6-aa6f-010dbd363636"
      },
      "execution_count": null,
      "outputs": [
        {
          "output_type": "execute_result",
          "data": {
            "text/plain": [
              "array([[[ 0.,  1.,  2.,  3.,  4.],\n",
              "        [ 5.,  6.,  7.,  8.,  9.],\n",
              "        [10., 11., 12., 13., 14.],\n",
              "        [15., 16., 17., 18., 19.]],\n",
              "\n",
              "       [[20., 21., 22., 23., 24.],\n",
              "        [25., 26., 27., 28., 29.],\n",
              "        [30., 31., 32., 33., 34.],\n",
              "        [35., 36., 37., 38., 39.]]])"
            ]
          },
          "metadata": {},
          "execution_count": 4
        }
      ]
    },
    {
      "cell_type": "markdown",
      "source": [
        "Arithmetic operators on arrays apply elementwise. A new array is created and filled with the result."
      ],
      "metadata": {
        "id": "Li2fTaEr8u0G"
      }
    },
    {
      "cell_type": "code",
      "source": [
        "a = np.array([2,5,7,9,0])\n",
        "b = np.array([5,23,67,7,3])\n",
        "c = a-b\n",
        "print(c)\n",
        "print(c**2)\n",
        "print(10*np.sin(a))\n",
        "print(a<5)"
      ],
      "metadata": {
        "colab": {
          "base_uri": "https://localhost:8080/"
        },
        "id": "twaz2hH98wih",
        "outputId": "f88295e3-6e02-47ba-d56d-1c58ad828ca9"
      },
      "execution_count": null,
      "outputs": [
        {
          "output_type": "stream",
          "name": "stdout",
          "text": [
            "[ -3 -18 -60   2  -3]\n",
            "[   9  324 3600    4    9]\n",
            "[ 9.09297427 -9.58924275  6.56986599  4.12118485  0.        ]\n",
            "[ True False False False  True]\n"
          ]
        }
      ]
    },
    {
      "cell_type": "code",
      "source": [
        "a = np.array([[1,2],[3,4]]).T\n",
        "print(a)"
      ],
      "metadata": {
        "id": "aSoBZucycnXZ",
        "outputId": "792b36d9-5b34-4df8-9e6f-72869eb6a328",
        "colab": {
          "base_uri": "https://localhost:8080/"
        }
      },
      "execution_count": null,
      "outputs": [
        {
          "output_type": "stream",
          "name": "stdout",
          "text": [
            "[[1 3]\n",
            " [2 4]]\n"
          ]
        }
      ]
    },
    {
      "cell_type": "code",
      "source": [
        "# Convert the input to an array.\n",
        "np.asarray([[1,2],[3,4]])\n",
        "a = np.array([[1,2],[3,4]])\n",
        "b = np.asarray(a)\n",
        "a"
      ],
      "metadata": {
        "id": "PF0YguxRNfWe",
        "outputId": "01f00635-87f6-4074-8324-3d3a4c3ee844",
        "colab": {
          "base_uri": "https://localhost:8080/"
        }
      },
      "execution_count": 14,
      "outputs": [
        {
          "output_type": "execute_result",
          "data": {
            "text/plain": [
              "array([[1, 2],\n",
              "       [3, 4]])"
            ]
          },
          "metadata": {},
          "execution_count": 14
        }
      ]
    },
    {
      "cell_type": "code",
      "source": [
        "a = [1,2,3,4]\n",
        "b = np.array([1,2,3])\n",
        "b.tolist()\n",
        "c = np.array([[1,4],[2,3]]).tolist()\n",
        "print(c)"
      ],
      "metadata": {
        "id": "O4uZO5x9NlEt",
        "outputId": "928dc656-16f3-498c-b0d4-fd2e8815f7c4",
        "colab": {
          "base_uri": "https://localhost:8080/"
        }
      },
      "execution_count": 10,
      "outputs": [
        {
          "output_type": "stream",
          "name": "stdout",
          "text": [
            "[[1, 4], [2, 3]]\n"
          ]
        }
      ]
    },
    {
      "cell_type": "markdown",
      "source": [
        "np.hstack(tuple)\n",
        "\n",
        "Stack arrays in sequence horizontally (column wise).\n",
        "\n",
        "This is equivalent to concatenation along the second axis, except for 1-D arrays where it concatenates along the first axis"
      ],
      "metadata": {
        "id": "jAB6bSKeSBNw"
      }
    },
    {
      "cell_type": "code",
      "source": [
        "a = np.array([[1],[2],[3]])\n",
        "b = np.array([[4],[5],[6]])\n",
        "print(np.hstack((a,b)))\n",
        "\n",
        "a = np.array((1,2,3))\n",
        "b = np.array((4,5,6))\n",
        "print(np.hstack((a,b)))"
      ],
      "metadata": {
        "id": "0cOe0JykR9e2",
        "outputId": "bd4dbb6f-6afa-40dc-98b5-d26f8d20e8b8",
        "colab": {
          "base_uri": "https://localhost:8080/"
        }
      },
      "execution_count": 17,
      "outputs": [
        {
          "output_type": "stream",
          "name": "stdout",
          "text": [
            "[[1 4]\n",
            " [2 5]\n",
            " [3 6]]\n",
            "[1 2 3 4 5 6]\n"
          ]
        }
      ]
    },
    {
      "cell_type": "code",
      "source": [],
      "metadata": {
        "id": "TtKdZyJYPR08"
      },
      "execution_count": null,
      "outputs": []
    }
  ]
}